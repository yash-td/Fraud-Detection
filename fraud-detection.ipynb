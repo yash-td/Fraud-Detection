{
 "cells": [
  {
   "cell_type": "code",
   "execution_count": 809,
   "metadata": {},
   "outputs": [],
   "source": [
    "import numpy as np\n",
    "import pandas as pd\n",
    "import matplotlib.pyplot as plt\n",
    "from dataprep.eda import *\n",
    "import seaborn as sns\n",
    "from datetime import datetime\n",
    "from sklearn.model_selection import train_test_split\n",
    "from sklearn.preprocessing import StandardScaler\n",
    "from imblearn.over_sampling import SMOTE"
   ]
  },
  {
   "cell_type": "code",
   "execution_count": 810,
   "metadata": {},
   "outputs": [],
   "source": [
    "# helper functions\n",
    "\n",
    "def get_pod(x):\n",
    "    if (x.hour > 4) and (x.hour <= 8):\n",
    "        return 'Early Morning'\n",
    "    elif (x.hour > 8) and (x.hour <= 12 ):\n",
    "        return 'Morning'\n",
    "    elif (x.hour > 12) and (x.hour <= 16):\n",
    "        return'Noon'\n",
    "    elif (x.hour > 16) and (x.hour <= 20) :\n",
    "        return 'Eve'\n",
    "    elif (x.hour > 20) and (x.hour <= 24):\n",
    "        return'Night'\n",
    "    elif (x.hour <= 4):\n",
    "        return'Late Night'\n",
    "\n",
    "def create_dummies(data,column,prefix):\n",
    "    dummies = pd.get_dummies(data[column.name],prefix = prefix)\n",
    "    data = pd.concat([data,dummies],axis=1)\n",
    "    data = data.drop(columns=[column.name])\n",
    "    return data\n",
    "\n",
    "def get_frequency(data,column,new_var):\n",
    "    freq = column.value_counts()\n",
    "    freq = pd.DataFrame(freq)\n",
    "    freq[\"name\"] = freq.index\n",
    "    freq.rename(columns = {column.name:new_var, 'name':column.name}, inplace = True)\n",
    "    data = data.merge(freq, on = column.name)\n",
    "    data = data.drop(columns=[column.name])\n",
    "    return data\n",
    "\n",
    "def resamplingDataPrep(X_train, y_train, target_var): \n",
    "    # concatenate our training data back together\n",
    "    resampling = X_train.copy()\n",
    "    resampling[target_var] = y_train.values\n",
    "    # separate minority and majority classes\n",
    "    majority_class = resampling[resampling[target_var]==0]\n",
    "    minority_class = resampling[resampling[target_var]==1]\n",
    "    # Get a class count to understand the class imbalance.\n",
    "    print('majority_class: '+ str(len(majority_class)))\n",
    "    print('minority_class: '+ str(len(minority_class)))\n",
    "    return majority_class, minority_class\n",
    "\n",
    "def upsample_SMOTE(X_train, y_train, target_var, ratio):\n",
    "    \"\"\"Upsamples minority class using SMOTE.\n",
    "    Ratio argument is the percentage of the upsampled minority class in relation\n",
    "    to the majority class. Default is 1.0\n",
    "    \"\"\"\n",
    "    sm = SMOTE(random_state=42, sampling_strategy=ratio)\n",
    "    # sm = SMOTEENN(random_state=42,sampling_strategy=0.3)\n",
    "    X_train_sm, y_train_sm = sm.fit_resample(X_train, y_train)\n",
    "    resampling = X_train_sm.copy()\n",
    "    resampling[target_var] = y_train_sm.values\n",
    "    majority_class = resampling[resampling[target_var]==0]\n",
    "    minority_class = resampling[resampling[target_var]==1]\n",
    "    print('majority_class: '+ str(len(majority_class)))\n",
    "    print('minority_class: '+ str(len(minority_class)))\n",
    "\n",
    "    return X_train_sm, y_train_sm\n",
    "\n",
    "\n",
    "def prepare_data(data):\n",
    "    X = data.drop(columns=['isFraud'])\n",
    "    y = data['isFraud']\n",
    "    X_train, X_rest, y_train, y_rest  = train_test_split(X, y, test_size=0.3, random_state=42, stratify=y)\n",
    "    X_val, X_test, y_val, y_test = train_test_split(X_rest, y_rest, test_size=0.75, random_state=42, stratify=y_rest)\n",
    "\n",
    "    return X_train,X_test,X_val,y_train,y_test,y_val\n",
    "    \n",
    "\n",
    "    \n",
    "\n"
   ]
  },
  {
   "attachments": {},
   "cell_type": "markdown",
   "metadata": {},
   "source": [
    "# Loading the Data"
   ]
  },
  {
   "cell_type": "code",
   "execution_count": 811,
   "metadata": {},
   "outputs": [],
   "source": [
    "desc = pd.read_excel('data-dictionary.xlsx', index_col=0)\n",
    "data_features = pd.read_csv('transactions_obf.csv')\n",
    "data_labels = pd.read_csv('labels_obf.csv')\n",
    "fraud_transactions = data_labels['eventId'].tolist()"
   ]
  },
  {
   "attachments": {},
   "cell_type": "markdown",
   "metadata": {},
   "source": [
    "# Creating Target Variable"
   ]
  },
  {
   "cell_type": "code",
   "execution_count": 812,
   "metadata": {},
   "outputs": [],
   "source": [
    "data_features.loc[data_features['eventId'].isin(fraud_transactions) , 'isFraud'] = 1\n",
    "data_features.loc[data_features['eventId'].isin(fraud_transactions) == False , 'isFraud'] = 0"
   ]
  },
  {
   "cell_type": "code",
   "execution_count": 813,
   "metadata": {},
   "outputs": [
    {
     "name": "stdout",
     "output_type": "stream",
     "text": [
      "Out of the total 118621 transactions, 117746 are genuine and 875 are fraud.\n"
     ]
    }
   ],
   "source": [
    "counts = data_features['isFraud'].value_counts()\n",
    "print(f'Out of the total {len(data_features)} transactions, {dict(counts).get(0)} are genuine and {dict(counts).get(1)} are fraud.')\n"
   ]
  },
  {
   "attachments": {},
   "cell_type": "markdown",
   "metadata": {},
   "source": [
    "# Dataset Visualisation"
   ]
  },
  {
   "attachments": {},
   "cell_type": "markdown",
   "metadata": {},
   "source": [
    "# transaction time"
   ]
  },
  {
   "cell_type": "code",
   "execution_count": 814,
   "metadata": {},
   "outputs": [],
   "source": [
    "# transaction time has a very high cardinality with 99.6% unique values. It should not be used to train the model as it does not provide much information ot the model. Instead I have extracted the hour from the time and created a new feature which signifies the part of the day when the transaction was made. This can be a great feature as the model can spot patterns to identify suspicious behaviour in unusual time of the day. "
   ]
  },
  {
   "cell_type": "code",
   "execution_count": 815,
   "metadata": {},
   "outputs": [],
   "source": [
    "data_features['transactionTime'] = pd.to_datetime(data_features['transactionTime'])"
   ]
  },
  {
   "cell_type": "code",
   "execution_count": 816,
   "metadata": {},
   "outputs": [
    {
     "data": {
      "text/plain": [
       "10"
      ]
     },
     "execution_count": 816,
     "metadata": {},
     "output_type": "execute_result"
    }
   ],
   "source": [
    "data_features['transactionTime'][1000].hour"
   ]
  },
  {
   "cell_type": "code",
   "execution_count": 817,
   "metadata": {},
   "outputs": [],
   "source": [
    "def get_pod(x):\n",
    "    if (x.hour > 4) and (x.hour <= 8):\n",
    "        return 'Early Morning'\n",
    "    elif (x.hour > 8) and (x.hour <= 12 ):\n",
    "        return 'Morning'\n",
    "    elif (x.hour > 12) and (x.hour <= 16):\n",
    "        return'Noon'\n",
    "    elif (x.hour > 16) and (x.hour <= 20) :\n",
    "        return 'Eve'\n",
    "    elif (x.hour > 20) and (x.hour <= 24):\n",
    "        return'Night'\n",
    "    elif (x.hour <= 4):\n",
    "        return'Late Night'"
   ]
  },
  {
   "cell_type": "code",
   "execution_count": 818,
   "metadata": {},
   "outputs": [],
   "source": [
    "data_features['transactionTime'] = pd.to_datetime(data_features['transactionTime'])\n",
    "data_features['transactionTime'] = data_features['transactionTime'].apply(get_pod)\n",
    "\n",
    "# pod_dummies = pd.get_dummies(data_features['transactionTime'],prefix = 'time')\n",
    "# data_features = pd.concat([data_features,pod_dummies],axis=1)\n",
    "# data_features = data_features.drop(columns=['transactionTime'])\n",
    "data_features = create_dummies(data_features,data_features['transactionTime'],'time')\n"
   ]
  },
  {
   "cell_type": "code",
   "execution_count": 819,
   "metadata": {},
   "outputs": [
    {
     "data": {
      "text/html": [
       "<div>\n",
       "<style scoped>\n",
       "    .dataframe tbody tr th:only-of-type {\n",
       "        vertical-align: middle;\n",
       "    }\n",
       "\n",
       "    .dataframe tbody tr th {\n",
       "        vertical-align: top;\n",
       "    }\n",
       "\n",
       "    .dataframe thead th {\n",
       "        text-align: right;\n",
       "    }\n",
       "</style>\n",
       "<table border=\"1\" class=\"dataframe\">\n",
       "  <thead>\n",
       "    <tr style=\"text-align: right;\">\n",
       "      <th></th>\n",
       "      <th>eventId</th>\n",
       "      <th>accountNumber</th>\n",
       "      <th>merchantId</th>\n",
       "      <th>mcc</th>\n",
       "      <th>merchantCountry</th>\n",
       "      <th>merchantZip</th>\n",
       "      <th>posEntryMode</th>\n",
       "      <th>transactionAmount</th>\n",
       "      <th>availableCash</th>\n",
       "      <th>isFraud</th>\n",
       "      <th>time_Early Morning</th>\n",
       "      <th>time_Eve</th>\n",
       "      <th>time_Late Night</th>\n",
       "      <th>time_Morning</th>\n",
       "      <th>time_Night</th>\n",
       "      <th>time_Noon</th>\n",
       "    </tr>\n",
       "  </thead>\n",
       "  <tbody>\n",
       "    <tr>\n",
       "      <th>0</th>\n",
       "      <td>18688431A1</td>\n",
       "      <td>94f9b4e7</td>\n",
       "      <td>b76d06</td>\n",
       "      <td>5968</td>\n",
       "      <td>826</td>\n",
       "      <td>CR0</td>\n",
       "      <td>1</td>\n",
       "      <td>10.72</td>\n",
       "      <td>7500</td>\n",
       "      <td>0.0</td>\n",
       "      <td>0</td>\n",
       "      <td>0</td>\n",
       "      <td>1</td>\n",
       "      <td>0</td>\n",
       "      <td>0</td>\n",
       "      <td>0</td>\n",
       "    </tr>\n",
       "    <tr>\n",
       "      <th>1</th>\n",
       "      <td>2164986A1</td>\n",
       "      <td>648e19cf</td>\n",
       "      <td>718cc6</td>\n",
       "      <td>5499</td>\n",
       "      <td>826</td>\n",
       "      <td>DE14</td>\n",
       "      <td>81</td>\n",
       "      <td>21.19</td>\n",
       "      <td>4500</td>\n",
       "      <td>0.0</td>\n",
       "      <td>0</td>\n",
       "      <td>0</td>\n",
       "      <td>1</td>\n",
       "      <td>0</td>\n",
       "      <td>0</td>\n",
       "      <td>0</td>\n",
       "    </tr>\n",
       "    <tr>\n",
       "      <th>2</th>\n",
       "      <td>31294145A1</td>\n",
       "      <td>c0ffab1b</td>\n",
       "      <td>94cafc</td>\n",
       "      <td>5735</td>\n",
       "      <td>442</td>\n",
       "      <td>NaN</td>\n",
       "      <td>81</td>\n",
       "      <td>5.04</td>\n",
       "      <td>9500</td>\n",
       "      <td>0.0</td>\n",
       "      <td>0</td>\n",
       "      <td>0</td>\n",
       "      <td>1</td>\n",
       "      <td>0</td>\n",
       "      <td>0</td>\n",
       "      <td>0</td>\n",
       "    </tr>\n",
       "    <tr>\n",
       "      <th>3</th>\n",
       "      <td>11162049A1</td>\n",
       "      <td>038099dd</td>\n",
       "      <td>7d5803</td>\n",
       "      <td>5499</td>\n",
       "      <td>826</td>\n",
       "      <td>NR1</td>\n",
       "      <td>81</td>\n",
       "      <td>21.00</td>\n",
       "      <td>7500</td>\n",
       "      <td>0.0</td>\n",
       "      <td>0</td>\n",
       "      <td>0</td>\n",
       "      <td>1</td>\n",
       "      <td>0</td>\n",
       "      <td>0</td>\n",
       "      <td>0</td>\n",
       "    </tr>\n",
       "    <tr>\n",
       "      <th>4</th>\n",
       "      <td>17067235A1</td>\n",
       "      <td>3130363b</td>\n",
       "      <td>12ca76</td>\n",
       "      <td>5411</td>\n",
       "      <td>826</td>\n",
       "      <td>M50</td>\n",
       "      <td>81</td>\n",
       "      <td>47.00</td>\n",
       "      <td>10500</td>\n",
       "      <td>0.0</td>\n",
       "      <td>0</td>\n",
       "      <td>0</td>\n",
       "      <td>1</td>\n",
       "      <td>0</td>\n",
       "      <td>0</td>\n",
       "      <td>0</td>\n",
       "    </tr>\n",
       "    <tr>\n",
       "      <th>...</th>\n",
       "      <td>...</td>\n",
       "      <td>...</td>\n",
       "      <td>...</td>\n",
       "      <td>...</td>\n",
       "      <td>...</td>\n",
       "      <td>...</td>\n",
       "      <td>...</td>\n",
       "      <td>...</td>\n",
       "      <td>...</td>\n",
       "      <td>...</td>\n",
       "      <td>...</td>\n",
       "      <td>...</td>\n",
       "      <td>...</td>\n",
       "      <td>...</td>\n",
       "      <td>...</td>\n",
       "      <td>...</td>\n",
       "    </tr>\n",
       "    <tr>\n",
       "      <th>118616</th>\n",
       "      <td>103590747A1</td>\n",
       "      <td>d3c036ac</td>\n",
       "      <td>0b1dae</td>\n",
       "      <td>6300</td>\n",
       "      <td>826</td>\n",
       "      <td>NN1</td>\n",
       "      <td>81</td>\n",
       "      <td>50.91</td>\n",
       "      <td>7500</td>\n",
       "      <td>0.0</td>\n",
       "      <td>0</td>\n",
       "      <td>0</td>\n",
       "      <td>0</td>\n",
       "      <td>0</td>\n",
       "      <td>1</td>\n",
       "      <td>0</td>\n",
       "    </tr>\n",
       "    <tr>\n",
       "      <th>118617</th>\n",
       "      <td>18903650A1</td>\n",
       "      <td>e0ad403a</td>\n",
       "      <td>e5d3c5</td>\n",
       "      <td>5812</td>\n",
       "      <td>826</td>\n",
       "      <td>TW9</td>\n",
       "      <td>5</td>\n",
       "      <td>71.00</td>\n",
       "      <td>10500</td>\n",
       "      <td>0.0</td>\n",
       "      <td>0</td>\n",
       "      <td>0</td>\n",
       "      <td>0</td>\n",
       "      <td>0</td>\n",
       "      <td>1</td>\n",
       "      <td>0</td>\n",
       "    </tr>\n",
       "    <tr>\n",
       "      <th>118618</th>\n",
       "      <td>103582443A1</td>\n",
       "      <td>d3c036ac</td>\n",
       "      <td>0b1dae</td>\n",
       "      <td>6300</td>\n",
       "      <td>826</td>\n",
       "      <td>NN1</td>\n",
       "      <td>81</td>\n",
       "      <td>17.00</td>\n",
       "      <td>8500</td>\n",
       "      <td>0.0</td>\n",
       "      <td>0</td>\n",
       "      <td>0</td>\n",
       "      <td>0</td>\n",
       "      <td>0</td>\n",
       "      <td>1</td>\n",
       "      <td>0</td>\n",
       "    </tr>\n",
       "    <tr>\n",
       "      <th>118619</th>\n",
       "      <td>14841868A1</td>\n",
       "      <td>ec212849</td>\n",
       "      <td>1ab20c</td>\n",
       "      <td>4812</td>\n",
       "      <td>826</td>\n",
       "      <td>SL1</td>\n",
       "      <td>1</td>\n",
       "      <td>11.00</td>\n",
       "      <td>7500</td>\n",
       "      <td>0.0</td>\n",
       "      <td>0</td>\n",
       "      <td>0</td>\n",
       "      <td>1</td>\n",
       "      <td>0</td>\n",
       "      <td>0</td>\n",
       "      <td>0</td>\n",
       "    </tr>\n",
       "    <tr>\n",
       "      <th>118620</th>\n",
       "      <td>14844076A1</td>\n",
       "      <td>ec212849</td>\n",
       "      <td>1ef22b</td>\n",
       "      <td>4812</td>\n",
       "      <td>826</td>\n",
       "      <td>SL1</td>\n",
       "      <td>81</td>\n",
       "      <td>11.00</td>\n",
       "      <td>7500</td>\n",
       "      <td>0.0</td>\n",
       "      <td>0</td>\n",
       "      <td>0</td>\n",
       "      <td>0</td>\n",
       "      <td>0</td>\n",
       "      <td>1</td>\n",
       "      <td>0</td>\n",
       "    </tr>\n",
       "  </tbody>\n",
       "</table>\n",
       "<p>118621 rows × 16 columns</p>\n",
       "</div>"
      ],
      "text/plain": [
       "            eventId accountNumber merchantId   mcc  merchantCountry  \\\n",
       "0        18688431A1      94f9b4e7     b76d06  5968              826   \n",
       "1         2164986A1      648e19cf     718cc6  5499              826   \n",
       "2        31294145A1      c0ffab1b     94cafc  5735              442   \n",
       "3        11162049A1      038099dd     7d5803  5499              826   \n",
       "4        17067235A1      3130363b     12ca76  5411              826   \n",
       "...             ...           ...        ...   ...              ...   \n",
       "118616  103590747A1      d3c036ac     0b1dae  6300              826   \n",
       "118617   18903650A1      e0ad403a     e5d3c5  5812              826   \n",
       "118618  103582443A1      d3c036ac     0b1dae  6300              826   \n",
       "118619   14841868A1      ec212849     1ab20c  4812              826   \n",
       "118620   14844076A1      ec212849     1ef22b  4812              826   \n",
       "\n",
       "       merchantZip  posEntryMode  transactionAmount  availableCash  isFraud  \\\n",
       "0              CR0             1              10.72           7500      0.0   \n",
       "1             DE14            81              21.19           4500      0.0   \n",
       "2              NaN            81               5.04           9500      0.0   \n",
       "3              NR1            81              21.00           7500      0.0   \n",
       "4              M50            81              47.00          10500      0.0   \n",
       "...            ...           ...                ...            ...      ...   \n",
       "118616         NN1            81              50.91           7500      0.0   \n",
       "118617         TW9             5              71.00          10500      0.0   \n",
       "118618         NN1            81              17.00           8500      0.0   \n",
       "118619         SL1             1              11.00           7500      0.0   \n",
       "118620         SL1            81              11.00           7500      0.0   \n",
       "\n",
       "        time_Early Morning  time_Eve  time_Late Night  time_Morning  \\\n",
       "0                        0         0                1             0   \n",
       "1                        0         0                1             0   \n",
       "2                        0         0                1             0   \n",
       "3                        0         0                1             0   \n",
       "4                        0         0                1             0   \n",
       "...                    ...       ...              ...           ...   \n",
       "118616                   0         0                0             0   \n",
       "118617                   0         0                0             0   \n",
       "118618                   0         0                0             0   \n",
       "118619                   0         0                1             0   \n",
       "118620                   0         0                0             0   \n",
       "\n",
       "        time_Night  time_Noon  \n",
       "0                0          0  \n",
       "1                0          0  \n",
       "2                0          0  \n",
       "3                0          0  \n",
       "4                0          0  \n",
       "...            ...        ...  \n",
       "118616           1          0  \n",
       "118617           1          0  \n",
       "118618           1          0  \n",
       "118619           0          0  \n",
       "118620           1          0  \n",
       "\n",
       "[118621 rows x 16 columns]"
      ]
     },
     "execution_count": 819,
     "metadata": {},
     "output_type": "execute_result"
    }
   ],
   "source": [
    "data_features"
   ]
  },
  {
   "attachments": {},
   "cell_type": "markdown",
   "metadata": {},
   "source": [
    "# eventID"
   ]
  },
  {
   "cell_type": "code",
   "execution_count": 820,
   "metadata": {},
   "outputs": [],
   "source": [
    "# similar to transaction time 'eventId' has a very high cardinality as well with 100% unique values and it should not be used to train the model. Hence we drop this column from our feature set.\n",
    "data_features = data_features.drop(columns=['eventId'])"
   ]
  },
  {
   "attachments": {},
   "cell_type": "markdown",
   "metadata": {},
   "source": [
    "# Account Number"
   ]
  },
  {
   "cell_type": "code",
   "execution_count": 821,
   "metadata": {},
   "outputs": [],
   "source": [
    "# Account Number has just 766 unique values which is 0.6% of the total values. Account number as it is can't be a great predictor as it is just an id and does not provide any information. But instead \n",
    "# the frequency of the account numbers can be calculated and used as a feature. The number of transactions by the same account is definitely a great predictor for fraud detection systems.\n",
    "# High number of transactions from the same account can signal towards a probable fraud."
   ]
  },
  {
   "cell_type": "code",
   "execution_count": 822,
   "metadata": {},
   "outputs": [],
   "source": [
    "# acc_freq = data_features.accountNumber.value_counts()\n",
    "# acc_freq = pd.DataFrame(acc_freq)\n",
    "# acc_freq[\"name\"] = acc_freq.index\n",
    "# acc_freq.rename(columns = {'accountNumber':'acc_freq', 'name':'accountNumber'}, inplace = True)\n",
    "# data_features = data_features.merge(acc_freq, on = 'accountNumber')\n",
    "# data_features = data_features.drop(columns=['accountNumber'])\n",
    "# mm = StandardScaler()\n",
    "# data_features['acc_freq'] = mm.fit_transform(data_features[['acc_freq']])\n",
    "mm = StandardScaler()\n",
    "data_features = get_frequency(data_features,data_features.accountNumber,'acc_freq')\n",
    "# data_features['acc_freq'] = mm.fit_transform(data_features[['acc_freq']])\n"
   ]
  },
  {
   "attachments": {},
   "cell_type": "markdown",
   "metadata": {},
   "source": [
    "# Merchant Id"
   ]
  },
  {
   "cell_type": "code",
   "execution_count": 823,
   "metadata": {},
   "outputs": [],
   "source": [
    "# Merchant Id is a unique id of the merchant and has 33327 unique values. It should not be used as it is while training the model because of its very high cardinality. Frequency of the merchant id could be used but there is a high chance that it gets correlated with 'mcc' as similar merchant ids will always have similar mcc.\n",
    "#  Hence we drop this column from our feature set.\n",
    "data_features = data_features.drop(columns=['merchantId'])"
   ]
  },
  {
   "attachments": {},
   "cell_type": "markdown",
   "metadata": {},
   "source": [
    "# MCC\n"
   ]
  },
  {
   "cell_type": "code",
   "execution_count": 824,
   "metadata": {},
   "outputs": [],
   "source": [
    "# MCC represents the merchant category code of the merchant. It specifies the type of goods or services the merchant provides. It has a high cardinality as well and hence we use the frequency of MCC instead of the MCC codes. \n",
    "# The frequency will represent the number of times a specific type of service or goods category appeared. "
   ]
  },
  {
   "cell_type": "code",
   "execution_count": 825,
   "metadata": {},
   "outputs": [],
   "source": [
    "# mcc_freq = data_features.mcc.value_counts()\n",
    "# mcc_freq = pd.DataFrame(mcc_freq)\n",
    "# mcc_freq[\"mcc_code\"] = mcc_freq.index\n",
    "# mcc_freq.rename(columns = {'mcc':'mcc_freq', 'mcc_code':'mcc'}, inplace = True)\n",
    "# data_features = data_features.merge(mcc_freq, on = 'mcc')\n",
    "# data_features = data_features.drop(columns=['mcc'])\n",
    "# # data_features['mcc_freq'] = np.log(data_features['mcc_freq']+0.01)\n"
   ]
  },
  {
   "cell_type": "code",
   "execution_count": 826,
   "metadata": {},
   "outputs": [],
   "source": [
    "data_features = get_frequency(data_features,data_features['mcc'],'mcc_freq')\n",
    "# data_features['mcc_freq'] = mm.fit_transform(data_features[['mcc_freq']])"
   ]
  },
  {
   "attachments": {},
   "cell_type": "markdown",
   "metadata": {},
   "source": [
    "# Merchant Country"
   ]
  },
  {
   "cell_type": "code",
   "execution_count": 827,
   "metadata": {},
   "outputs": [],
   "source": [
    "# It is the country of the merchant who charged for the transaction. It contains 82 different countries. Using label encoder "
   ]
  },
  {
   "cell_type": "code",
   "execution_count": 828,
   "metadata": {},
   "outputs": [],
   "source": [
    "merchant_country_freq = pd.DataFrame(data_features.merchantCountry.value_counts())\n",
    "merchant_country_freq[\"mc\"] = merchant_country_freq.index\n",
    "country_list = merchant_country_freq.loc[merchant_country_freq.merchantCountry>100,\"mc\"] # extracting countires whose transaction frequency is more than 100\n",
    "data_features.loc[data_features[\"merchantCountry\"].isin(country_list)==False,\"merchantCountry\"]=\"low_freq_countires\" # marking rest countries as \"low_freq_countries\"\n",
    "\n",
    "# mc_dummies = pd.get_dummies(data_features['merchantCountry'],prefix = 'mc')\n",
    "# data_features = pd.concat([data_features,mc_dummies],axis=1)\n",
    "# data_features = data_features.drop(columns=['merchantCountry'])\n",
    "data_features = create_dummies(data_features,data_features['merchantCountry'],'mc')\n"
   ]
  },
  {
   "attachments": {},
   "cell_type": "markdown",
   "metadata": {},
   "source": [
    "# Merchant Zip"
   ]
  },
  {
   "cell_type": "code",
   "execution_count": 829,
   "metadata": {},
   "outputs": [
    {
     "name": "stdout",
     "output_type": "stream",
     "text": [
      "The number of na values for the feature \"merchantZip\" is 23005\n"
     ]
    }
   ],
   "source": [
    "# It is the zip code of the postal address of the merchant. This column cointains 23005 missing values and the best method is to drop the column.\n",
    "print('The number of na values for the feature \"merchantZip\" is', data_features.apply(lambda x : x.isnull().sum()).to_dict().get('merchantZip'))\n",
    "data_features = data_features.drop(columns=['merchantZip'])"
   ]
  },
  {
   "attachments": {},
   "cell_type": "markdown",
   "metadata": {},
   "source": [
    "# POS Entry Mode"
   ]
  },
  {
   "cell_type": "code",
   "execution_count": 830,
   "metadata": {},
   "outputs": [],
   "source": [
    "# It represents the point of sale entry mode and there are just 10 distinct values hence we should use a one hot encoder. This can be done using the \n",
    "# get_dummies function from pandas.\n",
    "data_features['posEntryMode'].value_counts()\n",
    "# pos_dummies = pd.get_dummies(data_features['posEntryMode'],prefix='pos_mode')\n",
    "# data_features = pd.concat([data_features,pos_dummies],axis=1)\n",
    "# data_features = data_features.drop(columns=['posEntryMode'])\n",
    "data_features = create_dummies(data_features,data_features['posEntryMode'],'pos_mode')"
   ]
  },
  {
   "attachments": {},
   "cell_type": "markdown",
   "metadata": {},
   "source": [
    "# Transaction Amount"
   ]
  },
  {
   "cell_type": "code",
   "execution_count": 831,
   "metadata": {},
   "outputs": [],
   "source": [
    "# This column contains a certain number of negative values which are not veyr high in magnitude. The minimum tranasction amount is \"-0.15\". \n",
    "# We can either reomove these 183 values or make them zero. It wont make a huge difference if I perform any of these two methods\n",
    "# but leaving the negative values as it is can degrade the performance of our classifier. I chose to remove the observations as -ve transaction values don't make sense\n",
    "# and making them zero without any strong reason would not make any sense. As far as the skewness of this feature is concerned, I do not plan to use a parametric model \n",
    "# hence transforming the values according to a specific distribution won't make sense. \n",
    "neg_indexes = data_features[ data_features['transactionAmount'] < 0 ].index\n",
    "data_features.drop(neg_indexes , inplace=True)\n",
    "# data_features['transactionAmount'] = np.log(data_features['transactionAmount'] + 0.01)\n",
    "data_features['transactionAmount'] = mm.fit_transform(data_features[['transactionAmount']])\n",
    "\n"
   ]
  },
  {
   "cell_type": "code",
   "execution_count": 856,
   "metadata": {},
   "outputs": [
    {
     "data": {
      "text/html": [
       "<div>\n",
       "<style scoped>\n",
       "    .dataframe tbody tr th:only-of-type {\n",
       "        vertical-align: middle;\n",
       "    }\n",
       "\n",
       "    .dataframe tbody tr th {\n",
       "        vertical-align: top;\n",
       "    }\n",
       "\n",
       "    .dataframe thead th {\n",
       "        text-align: right;\n",
       "    }\n",
       "</style>\n",
       "<table border=\"1\" class=\"dataframe\">\n",
       "  <thead>\n",
       "    <tr style=\"text-align: right;\">\n",
       "      <th></th>\n",
       "      <th>transactionAmount</th>\n",
       "      <th>availableCash</th>\n",
       "      <th>isFraud</th>\n",
       "      <th>time_Early Morning</th>\n",
       "      <th>time_Eve</th>\n",
       "      <th>time_Late Night</th>\n",
       "      <th>time_Morning</th>\n",
       "      <th>time_Night</th>\n",
       "      <th>time_Noon</th>\n",
       "      <th>acc_freq</th>\n",
       "      <th>...</th>\n",
       "      <th>pos_mode_0</th>\n",
       "      <th>pos_mode_1</th>\n",
       "      <th>pos_mode_2</th>\n",
       "      <th>pos_mode_5</th>\n",
       "      <th>pos_mode_7</th>\n",
       "      <th>pos_mode_79</th>\n",
       "      <th>pos_mode_80</th>\n",
       "      <th>pos_mode_81</th>\n",
       "      <th>pos_mode_90</th>\n",
       "      <th>pos_mode_91</th>\n",
       "    </tr>\n",
       "  </thead>\n",
       "  <tbody>\n",
       "    <tr>\n",
       "      <th>count</th>\n",
       "      <td>1.184380e+05</td>\n",
       "      <td>1.184380e+05</td>\n",
       "      <td>118438.000000</td>\n",
       "      <td>118438.000000</td>\n",
       "      <td>118438.000000</td>\n",
       "      <td>118438.000000</td>\n",
       "      <td>118438.000000</td>\n",
       "      <td>118438.000000</td>\n",
       "      <td>118438.000000</td>\n",
       "      <td>118438.000000</td>\n",
       "      <td>...</td>\n",
       "      <td>118438.000000</td>\n",
       "      <td>118438.000000</td>\n",
       "      <td>118438.000000</td>\n",
       "      <td>118438.000000</td>\n",
       "      <td>118438.000000</td>\n",
       "      <td>118438.000000</td>\n",
       "      <td>118438.000000</td>\n",
       "      <td>118438.000000</td>\n",
       "      <td>118438.000000</td>\n",
       "      <td>118438.000000</td>\n",
       "    </tr>\n",
       "    <tr>\n",
       "      <th>mean</th>\n",
       "      <td>-1.919770e-18</td>\n",
       "      <td>1.343839e-17</td>\n",
       "      <td>0.007363</td>\n",
       "      <td>0.150830</td>\n",
       "      <td>0.181378</td>\n",
       "      <td>0.184206</td>\n",
       "      <td>0.169675</td>\n",
       "      <td>0.131267</td>\n",
       "      <td>0.182644</td>\n",
       "      <td>425.685751</td>\n",
       "      <td>...</td>\n",
       "      <td>0.000093</td>\n",
       "      <td>0.089051</td>\n",
       "      <td>0.000135</td>\n",
       "      <td>0.592918</td>\n",
       "      <td>0.005378</td>\n",
       "      <td>0.000262</td>\n",
       "      <td>0.000777</td>\n",
       "      <td>0.301204</td>\n",
       "      <td>0.010149</td>\n",
       "      <td>0.000034</td>\n",
       "    </tr>\n",
       "    <tr>\n",
       "      <th>std</th>\n",
       "      <td>1.000004e+00</td>\n",
       "      <td>1.000004e+00</td>\n",
       "      <td>0.085489</td>\n",
       "      <td>0.357885</td>\n",
       "      <td>0.385332</td>\n",
       "      <td>0.387654</td>\n",
       "      <td>0.375349</td>\n",
       "      <td>0.337694</td>\n",
       "      <td>0.386376</td>\n",
       "      <td>297.390435</td>\n",
       "      <td>...</td>\n",
       "      <td>0.009637</td>\n",
       "      <td>0.284818</td>\n",
       "      <td>0.011622</td>\n",
       "      <td>0.491292</td>\n",
       "      <td>0.073140</td>\n",
       "      <td>0.016176</td>\n",
       "      <td>0.027860</td>\n",
       "      <td>0.458783</td>\n",
       "      <td>0.100229</td>\n",
       "      <td>0.005811</td>\n",
       "    </tr>\n",
       "    <tr>\n",
       "      <th>min</th>\n",
       "      <td>-2.924889e-01</td>\n",
       "      <td>-1.795527e+00</td>\n",
       "      <td>0.000000</td>\n",
       "      <td>0.000000</td>\n",
       "      <td>0.000000</td>\n",
       "      <td>0.000000</td>\n",
       "      <td>0.000000</td>\n",
       "      <td>0.000000</td>\n",
       "      <td>0.000000</td>\n",
       "      <td>1.000000</td>\n",
       "      <td>...</td>\n",
       "      <td>0.000000</td>\n",
       "      <td>0.000000</td>\n",
       "      <td>0.000000</td>\n",
       "      <td>0.000000</td>\n",
       "      <td>0.000000</td>\n",
       "      <td>0.000000</td>\n",
       "      <td>0.000000</td>\n",
       "      <td>0.000000</td>\n",
       "      <td>0.000000</td>\n",
       "      <td>0.000000</td>\n",
       "    </tr>\n",
       "    <tr>\n",
       "      <th>25%</th>\n",
       "      <td>-2.485811e-01</td>\n",
       "      <td>-6.229577e-01</td>\n",
       "      <td>0.000000</td>\n",
       "      <td>0.000000</td>\n",
       "      <td>0.000000</td>\n",
       "      <td>0.000000</td>\n",
       "      <td>0.000000</td>\n",
       "      <td>0.000000</td>\n",
       "      <td>0.000000</td>\n",
       "      <td>180.000000</td>\n",
       "      <td>...</td>\n",
       "      <td>0.000000</td>\n",
       "      <td>0.000000</td>\n",
       "      <td>0.000000</td>\n",
       "      <td>0.000000</td>\n",
       "      <td>0.000000</td>\n",
       "      <td>0.000000</td>\n",
       "      <td>0.000000</td>\n",
       "      <td>0.000000</td>\n",
       "      <td>0.000000</td>\n",
       "      <td>0.000000</td>\n",
       "    </tr>\n",
       "    <tr>\n",
       "      <th>50%</th>\n",
       "      <td>-1.818761e-01</td>\n",
       "      <td>2.564692e-01</td>\n",
       "      <td>0.000000</td>\n",
       "      <td>0.000000</td>\n",
       "      <td>0.000000</td>\n",
       "      <td>0.000000</td>\n",
       "      <td>0.000000</td>\n",
       "      <td>0.000000</td>\n",
       "      <td>0.000000</td>\n",
       "      <td>383.000000</td>\n",
       "      <td>...</td>\n",
       "      <td>0.000000</td>\n",
       "      <td>0.000000</td>\n",
       "      <td>0.000000</td>\n",
       "      <td>1.000000</td>\n",
       "      <td>0.000000</td>\n",
       "      <td>0.000000</td>\n",
       "      <td>0.000000</td>\n",
       "      <td>0.000000</td>\n",
       "      <td>0.000000</td>\n",
       "      <td>0.000000</td>\n",
       "    </tr>\n",
       "    <tr>\n",
       "      <th>75%</th>\n",
       "      <td>-2.588643e-02</td>\n",
       "      <td>5.496115e-01</td>\n",
       "      <td>0.000000</td>\n",
       "      <td>0.000000</td>\n",
       "      <td>0.000000</td>\n",
       "      <td>0.000000</td>\n",
       "      <td>0.000000</td>\n",
       "      <td>0.000000</td>\n",
       "      <td>0.000000</td>\n",
       "      <td>613.000000</td>\n",
       "      <td>...</td>\n",
       "      <td>0.000000</td>\n",
       "      <td>0.000000</td>\n",
       "      <td>0.000000</td>\n",
       "      <td>1.000000</td>\n",
       "      <td>0.000000</td>\n",
       "      <td>0.000000</td>\n",
       "      <td>0.000000</td>\n",
       "      <td>1.000000</td>\n",
       "      <td>0.000000</td>\n",
       "      <td>0.000000</td>\n",
       "    </tr>\n",
       "    <tr>\n",
       "      <th>max</th>\n",
       "      <td>7.233221e+01</td>\n",
       "      <td>3.481034e+00</td>\n",
       "      <td>1.000000</td>\n",
       "      <td>1.000000</td>\n",
       "      <td>1.000000</td>\n",
       "      <td>1.000000</td>\n",
       "      <td>1.000000</td>\n",
       "      <td>1.000000</td>\n",
       "      <td>1.000000</td>\n",
       "      <td>1312.000000</td>\n",
       "      <td>...</td>\n",
       "      <td>1.000000</td>\n",
       "      <td>1.000000</td>\n",
       "      <td>1.000000</td>\n",
       "      <td>1.000000</td>\n",
       "      <td>1.000000</td>\n",
       "      <td>1.000000</td>\n",
       "      <td>1.000000</td>\n",
       "      <td>1.000000</td>\n",
       "      <td>1.000000</td>\n",
       "      <td>1.000000</td>\n",
       "    </tr>\n",
       "  </tbody>\n",
       "</table>\n",
       "<p>8 rows × 36 columns</p>\n",
       "</div>"
      ],
      "text/plain": [
       "       transactionAmount  availableCash        isFraud  time_Early Morning  \\\n",
       "count       1.184380e+05   1.184380e+05  118438.000000       118438.000000   \n",
       "mean       -1.919770e-18   1.343839e-17       0.007363            0.150830   \n",
       "std         1.000004e+00   1.000004e+00       0.085489            0.357885   \n",
       "min        -2.924889e-01  -1.795527e+00       0.000000            0.000000   \n",
       "25%        -2.485811e-01  -6.229577e-01       0.000000            0.000000   \n",
       "50%        -1.818761e-01   2.564692e-01       0.000000            0.000000   \n",
       "75%        -2.588643e-02   5.496115e-01       0.000000            0.000000   \n",
       "max         7.233221e+01   3.481034e+00       1.000000            1.000000   \n",
       "\n",
       "            time_Eve  time_Late Night   time_Morning     time_Night  \\\n",
       "count  118438.000000    118438.000000  118438.000000  118438.000000   \n",
       "mean        0.181378         0.184206       0.169675       0.131267   \n",
       "std         0.385332         0.387654       0.375349       0.337694   \n",
       "min         0.000000         0.000000       0.000000       0.000000   \n",
       "25%         0.000000         0.000000       0.000000       0.000000   \n",
       "50%         0.000000         0.000000       0.000000       0.000000   \n",
       "75%         0.000000         0.000000       0.000000       0.000000   \n",
       "max         1.000000         1.000000       1.000000       1.000000   \n",
       "\n",
       "           time_Noon       acc_freq  ...     pos_mode_0     pos_mode_1  \\\n",
       "count  118438.000000  118438.000000  ...  118438.000000  118438.000000   \n",
       "mean        0.182644     425.685751  ...       0.000093       0.089051   \n",
       "std         0.386376     297.390435  ...       0.009637       0.284818   \n",
       "min         0.000000       1.000000  ...       0.000000       0.000000   \n",
       "25%         0.000000     180.000000  ...       0.000000       0.000000   \n",
       "50%         0.000000     383.000000  ...       0.000000       0.000000   \n",
       "75%         0.000000     613.000000  ...       0.000000       0.000000   \n",
       "max         1.000000    1312.000000  ...       1.000000       1.000000   \n",
       "\n",
       "          pos_mode_2     pos_mode_5     pos_mode_7    pos_mode_79  \\\n",
       "count  118438.000000  118438.000000  118438.000000  118438.000000   \n",
       "mean        0.000135       0.592918       0.005378       0.000262   \n",
       "std         0.011622       0.491292       0.073140       0.016176   \n",
       "min         0.000000       0.000000       0.000000       0.000000   \n",
       "25%         0.000000       0.000000       0.000000       0.000000   \n",
       "50%         0.000000       1.000000       0.000000       0.000000   \n",
       "75%         0.000000       1.000000       0.000000       0.000000   \n",
       "max         1.000000       1.000000       1.000000       1.000000   \n",
       "\n",
       "         pos_mode_80    pos_mode_81    pos_mode_90    pos_mode_91  \n",
       "count  118438.000000  118438.000000  118438.000000  118438.000000  \n",
       "mean        0.000777       0.301204       0.010149       0.000034  \n",
       "std         0.027860       0.458783       0.100229       0.005811  \n",
       "min         0.000000       0.000000       0.000000       0.000000  \n",
       "25%         0.000000       0.000000       0.000000       0.000000  \n",
       "50%         0.000000       0.000000       0.000000       0.000000  \n",
       "75%         0.000000       1.000000       0.000000       0.000000  \n",
       "max         1.000000       1.000000       1.000000       1.000000  \n",
       "\n",
       "[8 rows x 36 columns]"
      ]
     },
     "execution_count": 856,
     "metadata": {},
     "output_type": "execute_result"
    }
   ],
   "source": [
    "data_features.describe()"
   ]
  },
  {
   "attachments": {},
   "cell_type": "markdown",
   "metadata": {},
   "source": [
    "# Available Cash"
   ]
  },
  {
   "cell_type": "code",
   "execution_count": 832,
   "metadata": {},
   "outputs": [],
   "source": [
    "# This column seems to be perfectly fine and can be used in our prediction models as it is. \n",
    "data_features['availableCash'] = mm.fit_transform(data_features[['availableCash']])"
   ]
  },
  {
   "attachments": {},
   "cell_type": "markdown",
   "metadata": {},
   "source": [
    "# Data set balance"
   ]
  },
  {
   "attachments": {},
   "cell_type": "markdown",
   "metadata": {},
   "source": [
    "With only 0.74% transactions that are fraudulent, a classifier that predicts every transaction to be not fraudulent will achieve accuracy score of 99.26%. However, such a classifier is valueless. Therefore, in the cases when classes are imbalanced, metrics other than accuracy should be considered. These metrics include precision, recall and a combination of these two metrics (F2).\n",
    "\n"
   ]
  },
  {
   "cell_type": "code",
   "execution_count": 833,
   "metadata": {},
   "outputs": [],
   "source": [
    "# the target variable \"isFraud\" is highly imbalanced. In such case the classifier will favour the majority classs start generating false predictions.\n",
    "# Hence we upsample the minority class using synthetic monetory upsampling technique. "
   ]
  },
  {
   "cell_type": "code",
   "execution_count": 834,
   "metadata": {},
   "outputs": [],
   "source": [
    "# The penalty for mislabeling a fraud transaction as legitimate is having a user’s money stolen, which the credit card company\n",
    "# typically reimburses. On the other hand, the penalty for mislabeling a legitimate transaction as fraud is having the user frozen\n",
    "# out of their finances and unable to make payments. Balancing the data keeping in mind that we need to catch most of the fraudulent\n",
    "# transactions and have the least number of false positives. I will be using "
   ]
  },
  {
   "cell_type": "code",
   "execution_count": 835,
   "metadata": {},
   "outputs": [],
   "source": [
    "# After reviewing many techniques and the problem statement, I reached to a conclusion that false positives should be minimum and recall at the same time should be \n",
    "# good as well. Hence I did not oversample with 1:1 ratio. More the synthetic samples the model sees, more the recall but also the chance of getting \n",
    "# false positives increases a lot. "
   ]
  },
  {
   "cell_type": "code",
   "execution_count": 836,
   "metadata": {},
   "outputs": [],
   "source": [
    "# X = data_features.drop(columns=['isFraud'])\n",
    "# y = data_features['isFraud']"
   ]
  },
  {
   "cell_type": "code",
   "execution_count": 837,
   "metadata": {},
   "outputs": [],
   "source": [
    "# X_train, X_rest, y_train, y_rest  = train_test_split(X, y, test_size=0.3, random_state=42, stratify=y)\n",
    "# X_val, X_test, y_val, y_test = train_test_split(X_rest, y_rest, test_size=0.75, random_state=42, stratify=y_rest)"
   ]
  },
  {
   "cell_type": "code",
   "execution_count": 838,
   "metadata": {},
   "outputs": [],
   "source": [
    "X_train,X_test,X_val,y_train,y_test,y_val = prepare_data(data_features)"
   ]
  },
  {
   "cell_type": "code",
   "execution_count": 853,
   "metadata": {},
   "outputs": [
    {
     "name": "stdout",
     "output_type": "stream",
     "text": [
      "majority_class: 82296\n",
      "minority_class: 610\n",
      "majority_class: 82296\n",
      "minority_class: 41148\n"
     ]
    }
   ],
   "source": [
    "maj_class, min_class = resamplingDataPrep(X_train,y_train,'isFraud')\n",
    "\n",
    "X_train_sm, y_train_sm = upsample_SMOTE(X_train,y_train,'is_Fraud',0.5)"
   ]
  },
  {
   "cell_type": "markdown",
   "metadata": {},
   "source": []
  },
  {
   "attachments": {},
   "cell_type": "markdown",
   "metadata": {},
   "source": [
    "# Experimenting with different models"
   ]
  },
  {
   "cell_type": "code",
   "execution_count": 854,
   "metadata": {},
   "outputs": [
    {
     "name": "stdout",
     "output_type": "stream",
     "text": [
      "              precision    recall  f1-score   support\n",
      "\n",
      "    notFraud       1.00      1.00      1.00     26453\n",
      "       Fraud       0.84      0.50      0.63       196\n",
      "\n",
      "    accuracy                           1.00     26649\n",
      "   macro avg       0.92      0.75      0.81     26649\n",
      "weighted avg       1.00      1.00      1.00     26649\n",
      "\n",
      "Confusion Matrix:\n",
      "[[26434    19]\n",
      " [   98    98]]\n"
     ]
    }
   ],
   "source": [
    "from sklearn.ensemble import RandomForestClassifier\n",
    "from sklearn.metrics import classification_report,confusion_matrix\n",
    "rfc = RandomForestClassifier(random_state=42,criterion='entropy')\n",
    "# rfc = XGBClassifier()\n",
    "rfc.fit(X_train_sm,y_train_sm)\n",
    "y_pred = rfc.predict(X_test)\n",
    "print(classification_report(y_test,y_pred,target_names=['notFraud','Fraud']))\n",
    "print('Confusion Matrix:')\n",
    "print(confusion_matrix(y_test,y_pred))"
   ]
  },
  {
   "cell_type": "code",
   "execution_count": 841,
   "metadata": {},
   "outputs": [
    {
     "data": {
      "image/png": "[encoded data removed]",
      "text/plain": [
       "<Figure size 432x288 with 1 Axes>"
      ]
     },
     "metadata": {
      "needs_background": "light"
     },
     "output_type": "display_data"
    }
   ],
   "source": [
    "\n",
    "from sklearn.metrics import PrecisionRecallDisplay\n",
    "\n",
    "display = PrecisionRecallDisplay.from_estimator(\n",
    "    rfc, X_test, y_test, name=\"RandomForest\"\n",
    ")\n",
    "_ = display.ax_.set_title(\"Precision-Recall curve\")"
   ]
  },
  {
   "attachments": {},
   "cell_type": "markdown",
   "metadata": {},
   "source": [
    "# Tuning the base model with best f1 score"
   ]
  },
  {
   "cell_type": "code",
   "execution_count": 842,
   "metadata": {},
   "outputs": [
    {
     "data": {
      "image/png": "[encoded data removed]",
      "text/plain": [
       "<Figure size 1440x720 with 1 Axes>"
      ]
     },
     "metadata": {
      "needs_background": "light"
     },
     "output_type": "display_data"
    },
    {
     "data": {
      "text/plain": [
       "<Figure size 432x288 with 0 Axes>"
      ]
     },
     "metadata": {},
     "output_type": "display_data"
    }
   ],
   "source": [
    "feature_imp = pd.DataFrame(sorted(zip(rfc.feature_importances_,X.columns)), columns=['Value','Feature'])\n",
    "\n",
    "plt.figure(figsize=(20, 10))\n",
    "sns.barplot(x=\"Value\", y=\"Feature\", data=feature_imp.sort_values(by=\"Value\", ascending=False))\n",
    "plt.title('Random Forest')\n",
    "plt.tight_layout()\n",
    "plt.show()\n",
    "plt.savefig('f-imp.png')"
   ]
  },
  {
   "cell_type": "code",
   "execution_count": null,
   "metadata": {},
   "outputs": [],
   "source": []
  },
  {
   "cell_type": "code",
   "execution_count": null,
   "metadata": {},
   "outputs": [],
   "source": []
  }
 ],
 "metadata": {
  "kernelspec": {
   "display_name": "Python 3 (ipykernel)",
   "language": "python",
   "name": "python3"
  },
  "language_info": {
   "codemirror_mode": {
    "name": "ipython",
    "version": 3
   },
   "file_extension": ".py",
   "mimetype": "text/x-python",
   "name": "python",
   "nbconvert_exporter": "python",
   "pygments_lexer": "ipython3",
   "version": "3.10.5"
  },
  "vscode": {
   "interpreter": {
    "hash": "aee8b7b246df8f9039afb4144a1f6fd8d2ca17a180786b69acc140d282b71a49"
   }
  }
 },
 "nbformat": 4,
 "nbformat_minor": 4
}

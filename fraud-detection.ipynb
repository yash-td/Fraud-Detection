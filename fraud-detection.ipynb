{
 "cells": [
  {
   "cell_type": "code",
   "execution_count": 733,
   "metadata": {},
   "outputs": [],
   "source": [
    "import numpy as np\n",
    "import pandas as pd\n",
    "import matplotlib.pyplot as plt\n",
    "from dataprep.eda import *\n",
    "import seaborn as sns\n",
    "from datetime import datetime\n",
    "from sklearn.model_selection import train_test_split\n",
    "from sklearn.preprocessing import StandardScaler\n",
    "from imblearn.over_sampling import SMOTE\n",
    "\n",
    "from sklearn.ensemble import RandomForestClassifier\n",
    "from sklearn.linear_model import LogisticRegression\n",
    "from xgboost import XGBClassifier\n",
    "from sklearn.metrics import classification_report,confusion_matrix\n",
    "from sklearn.neighbors import KNeighborsClassifier\n",
    "from sklearn.tree import DecisionTreeClassifier\n",
    "from sklearn.svm import SVC\n",
    "from sklearn.ensemble import AdaBoostClassifier\n",
    "from sklearn.ensemble import IsolationForest"
   ]
  },
  {
   "cell_type": "code",
   "execution_count": 734,
   "metadata": {},
   "outputs": [],
   "source": [
    "# helper functions\n",
    "\n",
    "def get_pod(x):\n",
    "    if (x.hour > 4) and (x.hour <= 8):\n",
    "        return 'Early Morning'\n",
    "    elif (x.hour > 8) and (x.hour <= 12 ):\n",
    "        return 'Morning'\n",
    "    elif (x.hour > 12) and (x.hour <= 16):\n",
    "        return'Noon'\n",
    "    elif (x.hour > 16) and (x.hour <= 20) :\n",
    "        return 'Eve'\n",
    "    elif (x.hour > 20) and (x.hour <= 24):\n",
    "        return'Night'\n",
    "    elif (x.hour <= 4):\n",
    "        return'Late Night'\n",
    "\n",
    "def create_dummies(data,column,prefix):\n",
    "    dummies = pd.get_dummies(data[column.name],prefix = prefix)\n",
    "    data = pd.concat([data,dummies],axis=1)\n",
    "    data = data.drop(columns=[column.name])\n",
    "    return data\n",
    "\n",
    "def get_frequency(data,column,new_var):\n",
    "    freq = column.value_counts()\n",
    "    freq = pd.DataFrame(freq)\n",
    "    freq[\"name\"] = freq.index\n",
    "    freq.rename(columns = {column.name:new_var, 'name':column.name}, inplace = True)\n",
    "    data = data.merge(freq, on = column.name)\n",
    "    data = data.drop(columns=[column.name])\n",
    "    return data\n",
    "\n",
    "def resamplingDataPrep(X_train, y_train, target_var): \n",
    "    # concatenate our training data back together\n",
    "    resampling = X_train.copy()\n",
    "    resampling[target_var] = y_train.values\n",
    "    # separate minority and majority classes\n",
    "    majority_class = resampling[resampling[target_var]==0]\n",
    "    minority_class = resampling[resampling[target_var]==1]\n",
    "    # Get a class count to understand the class imbalance.\n",
    "    print('majority_class: '+ str(len(majority_class)))\n",
    "    print('minority_class: '+ str(len(minority_class)))\n",
    "    return majority_class, minority_class\n",
    "\n",
    "def upsample_SMOTE(X_train, y_train, target_var, ratio):\n",
    "    \"\"\"Upsamples minority class using SMOTE.\n",
    "    Ratio argument is the percentage of the upsampled minority class in relation\n",
    "    to the majority class. Default is 1.0\n",
    "    \"\"\"\n",
    "    sm = SMOTE(random_state=42, sampling_strategy=ratio)\n",
    "    # sm = SMOTEENN(random_state=42,sampling_strategy=0.3)\n",
    "    X_train_sm, y_train_sm = sm.fit_resample(X_train, y_train)\n",
    "    resampling = X_train_sm.copy()\n",
    "    resampling[target_var] = y_train_sm.values\n",
    "    majority_class = resampling[resampling[target_var]==0]\n",
    "    minority_class = resampling[resampling[target_var]==1]\n",
    "    print('majority_class: '+ str(len(majority_class)))\n",
    "    print('minority_class: '+ str(len(minority_class)))\n",
    "\n",
    "    return X_train_sm, y_train_sm\n",
    "\n",
    "\n",
    "def prepare_data(data):\n",
    "    X = data.drop(columns=['isFraud'])\n",
    "    y = data['isFraud']\n",
    "    X_train, X_test, y_train, y_test  = train_test_split(X, y, test_size=0.2, random_state=42, stratify=y)\n",
    "\n",
    "    return X_train,X_test,y_train,y_test\n",
    "    \n",
    "\n",
    "def get_month(x):\n",
    "    return x.month\n",
    "    "
   ]
  },
  {
   "attachments": {},
   "cell_type": "markdown",
   "metadata": {},
   "source": [
    "# Loading the Data"
   ]
  },
  {
   "cell_type": "code",
   "execution_count": 735,
   "metadata": {},
   "outputs": [],
   "source": [
    "desc = pd.read_excel('data-dictionary.xlsx', index_col=0)\n",
    "data_features = pd.read_csv('transactions_obf.csv')\n",
    "data_labels = pd.read_csv('labels_obf.csv')\n",
    "fraud_transactions = data_labels['eventId'].tolist()"
   ]
  },
  {
   "attachments": {},
   "cell_type": "markdown",
   "metadata": {},
   "source": [
    "# Creating Target Variable"
   ]
  },
  {
   "cell_type": "code",
   "execution_count": 736,
   "metadata": {},
   "outputs": [],
   "source": [
    "data_features.loc[data_features['eventId'].isin(fraud_transactions) , 'isFraud'] = 1\n",
    "data_features.loc[data_features['eventId'].isin(fraud_transactions) == False , 'isFraud'] = 0"
   ]
  },
  {
   "cell_type": "code",
   "execution_count": 737,
   "metadata": {},
   "outputs": [
    {
     "name": "stdout",
     "output_type": "stream",
     "text": [
      "Out of the total 118621 transactions, 117746 are genuine and 875 are fraud.\n"
     ]
    }
   ],
   "source": [
    "counts = data_features['isFraud'].value_counts()\n",
    "print(f'Out of the total {len(data_features)} transactions, {dict(counts).get(0)} are genuine and {dict(counts).get(1)} are fraud.')\n"
   ]
  },
  {
   "attachments": {},
   "cell_type": "markdown",
   "metadata": {},
   "source": [
    "# Dataset Visualisation"
   ]
  },
  {
   "attachments": {},
   "cell_type": "markdown",
   "metadata": {},
   "source": [
    "# transaction time"
   ]
  },
  {
   "cell_type": "code",
   "execution_count": 738,
   "metadata": {},
   "outputs": [],
   "source": [
    "# transaction time has a very high cardinality with 99.6% unique values. It should not be used to train the model as it does not provide much information ot the model. Instead I have extracted the hour from the time and created a new feature which signifies the part of the day when the transaction was made. This can be a great feature as the model can spot patterns to identify suspicious behaviour in unusual time of the day. "
   ]
  },
  {
   "cell_type": "code",
   "execution_count": 739,
   "metadata": {},
   "outputs": [],
   "source": [
    "data_features['transactionTime'] = pd.to_datetime(data_features['transactionTime'])"
   ]
  },
  {
   "cell_type": "code",
   "execution_count": 740,
   "metadata": {},
   "outputs": [],
   "source": [
    "def get_pod(x):\n",
    "    if (x.hour > 4) and (x.hour <= 8):\n",
    "        return 'Early Morning'\n",
    "    elif (x.hour > 8) and (x.hour <= 12 ):\n",
    "        return 'Morning'\n",
    "    elif (x.hour > 12) and (x.hour <= 16):\n",
    "        return'Noon'\n",
    "    elif (x.hour > 16) and (x.hour <= 20) :\n",
    "        return 'Eve'\n",
    "    elif (x.hour > 20) and (x.hour <= 24):\n",
    "        return'Night'\n",
    "    elif (x.hour <= 4):\n",
    "        return'Late Night'"
   ]
  },
  {
   "cell_type": "code",
   "execution_count": 741,
   "metadata": {},
   "outputs": [],
   "source": [
    "data_features['transactionTime'] = pd.to_datetime(data_features['transactionTime'])\n",
    "data_features['transactionMonth'] = data_features['transactionTime'].apply(get_month)\n",
    "data_features['transactionTime'] = data_features['transactionTime'].apply(get_pod)\n",
    "data_features = create_dummies(data_features,data_features['transactionTime'],'time')\n",
    "\n"
   ]
  },
  {
   "attachments": {},
   "cell_type": "markdown",
   "metadata": {},
   "source": [
    "# eventID"
   ]
  },
  {
   "cell_type": "code",
   "execution_count": 742,
   "metadata": {},
   "outputs": [],
   "source": [
    "# similar to transaction time 'eventId' has a very high cardinality as well with 100% unique values and it should not be used to train the model. Hence we drop this column from our feature set.\n",
    "data_features = data_features.drop(columns=['eventId'])"
   ]
  },
  {
   "attachments": {},
   "cell_type": "markdown",
   "metadata": {},
   "source": [
    "# Account Number"
   ]
  },
  {
   "cell_type": "code",
   "execution_count": 743,
   "metadata": {},
   "outputs": [],
   "source": [
    "# Account Number has just 766 unique values which is 0.6% of the total values. Account number as it is can't be a great predictor as it is just an id and does not provide any information. But instead \n",
    "# the frequency of the account numbers can be calculated and used as a feature. The number of transactions by the same account is definitely a great predictor for fraud detection systems.\n",
    "# High number of transactions from the same account can signal towards a probable fraud."
   ]
  },
  {
   "cell_type": "code",
   "execution_count": 744,
   "metadata": {},
   "outputs": [],
   "source": [
    "from sklearn.preprocessing import RobustScaler\n",
    "rs = RobustScaler()\n",
    "data_features = get_frequency(data_features,data_features.accountNumber,'acc_freq')\n",
    "data_features['acc_freq'] = rs.fit_transform(data_features['acc_freq'].values.reshape(-1,1))\n"
   ]
  },
  {
   "attachments": {},
   "cell_type": "markdown",
   "metadata": {},
   "source": [
    "# Merchant Id"
   ]
  },
  {
   "cell_type": "code",
   "execution_count": 745,
   "metadata": {},
   "outputs": [],
   "source": [
    "# Merchant Id is a unique id of the merchant and has 33327 unique values. It should not be used as it is while training the model because of its very high cardinality. Frequency of the merchant id could be used but there is a high chance that it gets correlated with 'mcc' as similar merchant ids will always have similar mcc.\n",
    "#  Hence we drop this column from our feature set.\n",
    "data_features = data_features.drop(columns=['merchantId'])"
   ]
  },
  {
   "attachments": {},
   "cell_type": "markdown",
   "metadata": {},
   "source": [
    "# MCC\n"
   ]
  },
  {
   "cell_type": "code",
   "execution_count": 746,
   "metadata": {},
   "outputs": [],
   "source": [
    "# MCC represents the merchant category code of the merchant. It specifies the type of goods or services the merchant provides. It has a high cardinality as well and hence we use the frequency of MCC instead of the MCC codes. \n",
    "# The frequency will represent the number of times a specific type of service or goods category appeared. "
   ]
  },
  {
   "cell_type": "code",
   "execution_count": 747,
   "metadata": {},
   "outputs": [],
   "source": [
    "data_features = get_frequency(data_features,data_features['mcc'],'mcc_freq')\n",
    "data_features['mcc_freq'] = rs.fit_transform(data_features['mcc_freq'].values.reshape(-1,1))\n"
   ]
  },
  {
   "attachments": {},
   "cell_type": "markdown",
   "metadata": {},
   "source": [
    "# Merchant Country"
   ]
  },
  {
   "cell_type": "code",
   "execution_count": 748,
   "metadata": {},
   "outputs": [],
   "source": [
    "# It is the country of the merchant who charged for the transaction. It contains 82 different countries. Using label encoder "
   ]
  },
  {
   "cell_type": "code",
   "execution_count": 749,
   "metadata": {},
   "outputs": [],
   "source": [
    "merchant_country_freq = pd.DataFrame(data_features.merchantCountry.value_counts())\n",
    "merchant_country_freq[\"mc\"] = merchant_country_freq.index\n",
    "country_list = merchant_country_freq.loc[merchant_country_freq.merchantCountry>100,\"mc\"] # extracting countires whose transaction frequency is more than 100\n",
    "data_features.loc[data_features[\"merchantCountry\"].isin(country_list)==False,\"merchantCountry\"]=\"low_freq_countires\" # marking rest countries as \"low_freq_countries\"\n",
    "data_features = create_dummies(data_features,data_features['merchantCountry'],'mc')\n"
   ]
  },
  {
   "cell_type": "code",
   "execution_count": 702,
   "metadata": {},
   "outputs": [
    {
     "data": {
      "text/html": [
       "<div>\n",
       "<style scoped>\n",
       "    .dataframe tbody tr th:only-of-type {\n",
       "        vertical-align: middle;\n",
       "    }\n",
       "\n",
       "    .dataframe tbody tr th {\n",
       "        vertical-align: top;\n",
       "    }\n",
       "\n",
       "    .dataframe thead th {\n",
       "        text-align: right;\n",
       "    }\n",
       "</style>\n",
       "<table border=\"1\" class=\"dataframe\">\n",
       "  <thead>\n",
       "    <tr style=\"text-align: right;\">\n",
       "      <th></th>\n",
       "      <th>merchantZip</th>\n",
       "      <th>posEntryMode</th>\n",
       "      <th>transactionAmount</th>\n",
       "      <th>availableCash</th>\n",
       "      <th>isFraud</th>\n",
       "      <th>transactionMonth</th>\n",
       "      <th>time_Early Morning</th>\n",
       "      <th>time_Eve</th>\n",
       "      <th>time_Late Night</th>\n",
       "      <th>time_Morning</th>\n",
       "      <th>...</th>\n",
       "      <th>mc_292</th>\n",
       "      <th>mc_372</th>\n",
       "      <th>mc_380</th>\n",
       "      <th>mc_442</th>\n",
       "      <th>mc_528</th>\n",
       "      <th>mc_724</th>\n",
       "      <th>mc_756</th>\n",
       "      <th>mc_826</th>\n",
       "      <th>mc_840</th>\n",
       "      <th>mc_low_freq_countires</th>\n",
       "    </tr>\n",
       "  </thead>\n",
       "  <tbody>\n",
       "    <tr>\n",
       "      <th>0</th>\n",
       "      <td>CR0</td>\n",
       "      <td>1</td>\n",
       "      <td>10.72</td>\n",
       "      <td>7500</td>\n",
       "      <td>0.0</td>\n",
       "      <td>1</td>\n",
       "      <td>0</td>\n",
       "      <td>0</td>\n",
       "      <td>1</td>\n",
       "      <td>0</td>\n",
       "      <td>...</td>\n",
       "      <td>0</td>\n",
       "      <td>0</td>\n",
       "      <td>0</td>\n",
       "      <td>0</td>\n",
       "      <td>0</td>\n",
       "      <td>0</td>\n",
       "      <td>0</td>\n",
       "      <td>1</td>\n",
       "      <td>0</td>\n",
       "      <td>0</td>\n",
       "    </tr>\n",
       "    <tr>\n",
       "      <th>1</th>\n",
       "      <td>UB11</td>\n",
       "      <td>1</td>\n",
       "      <td>8.45</td>\n",
       "      <td>7500</td>\n",
       "      <td>0.0</td>\n",
       "      <td>1</td>\n",
       "      <td>0</td>\n",
       "      <td>0</td>\n",
       "      <td>1</td>\n",
       "      <td>0</td>\n",
       "      <td>...</td>\n",
       "      <td>0</td>\n",
       "      <td>0</td>\n",
       "      <td>0</td>\n",
       "      <td>0</td>\n",
       "      <td>0</td>\n",
       "      <td>0</td>\n",
       "      <td>0</td>\n",
       "      <td>1</td>\n",
       "      <td>0</td>\n",
       "      <td>0</td>\n",
       "    </tr>\n",
       "    <tr>\n",
       "      <th>2</th>\n",
       "      <td>CR0</td>\n",
       "      <td>1</td>\n",
       "      <td>11.98</td>\n",
       "      <td>8500</td>\n",
       "      <td>0.0</td>\n",
       "      <td>1</td>\n",
       "      <td>0</td>\n",
       "      <td>0</td>\n",
       "      <td>0</td>\n",
       "      <td>0</td>\n",
       "      <td>...</td>\n",
       "      <td>0</td>\n",
       "      <td>0</td>\n",
       "      <td>0</td>\n",
       "      <td>0</td>\n",
       "      <td>0</td>\n",
       "      <td>0</td>\n",
       "      <td>0</td>\n",
       "      <td>1</td>\n",
       "      <td>0</td>\n",
       "      <td>0</td>\n",
       "    </tr>\n",
       "    <tr>\n",
       "      <th>3</th>\n",
       "      <td>TS17</td>\n",
       "      <td>1</td>\n",
       "      <td>25.22</td>\n",
       "      <td>7500</td>\n",
       "      <td>0.0</td>\n",
       "      <td>1</td>\n",
       "      <td>0</td>\n",
       "      <td>0</td>\n",
       "      <td>0</td>\n",
       "      <td>0</td>\n",
       "      <td>...</td>\n",
       "      <td>0</td>\n",
       "      <td>0</td>\n",
       "      <td>0</td>\n",
       "      <td>0</td>\n",
       "      <td>0</td>\n",
       "      <td>0</td>\n",
       "      <td>0</td>\n",
       "      <td>1</td>\n",
       "      <td>0</td>\n",
       "      <td>0</td>\n",
       "    </tr>\n",
       "    <tr>\n",
       "      <th>4</th>\n",
       "      <td>UB11</td>\n",
       "      <td>1</td>\n",
       "      <td>8.38</td>\n",
       "      <td>7500</td>\n",
       "      <td>0.0</td>\n",
       "      <td>1</td>\n",
       "      <td>0</td>\n",
       "      <td>0</td>\n",
       "      <td>0</td>\n",
       "      <td>0</td>\n",
       "      <td>...</td>\n",
       "      <td>0</td>\n",
       "      <td>0</td>\n",
       "      <td>0</td>\n",
       "      <td>0</td>\n",
       "      <td>0</td>\n",
       "      <td>0</td>\n",
       "      <td>0</td>\n",
       "      <td>1</td>\n",
       "      <td>0</td>\n",
       "      <td>0</td>\n",
       "    </tr>\n",
       "    <tr>\n",
       "      <th>...</th>\n",
       "      <td>...</td>\n",
       "      <td>...</td>\n",
       "      <td>...</td>\n",
       "      <td>...</td>\n",
       "      <td>...</td>\n",
       "      <td>...</td>\n",
       "      <td>...</td>\n",
       "      <td>...</td>\n",
       "      <td>...</td>\n",
       "      <td>...</td>\n",
       "      <td>...</td>\n",
       "      <td>...</td>\n",
       "      <td>...</td>\n",
       "      <td>...</td>\n",
       "      <td>...</td>\n",
       "      <td>...</td>\n",
       "      <td>...</td>\n",
       "      <td>...</td>\n",
       "      <td>...</td>\n",
       "      <td>...</td>\n",
       "      <td>...</td>\n",
       "    </tr>\n",
       "    <tr>\n",
       "      <th>118616</th>\n",
       "      <td>NaN</td>\n",
       "      <td>1</td>\n",
       "      <td>122.91</td>\n",
       "      <td>500</td>\n",
       "      <td>0.0</td>\n",
       "      <td>6</td>\n",
       "      <td>0</td>\n",
       "      <td>0</td>\n",
       "      <td>0</td>\n",
       "      <td>0</td>\n",
       "      <td>...</td>\n",
       "      <td>0</td>\n",
       "      <td>0</td>\n",
       "      <td>0</td>\n",
       "      <td>0</td>\n",
       "      <td>0</td>\n",
       "      <td>0</td>\n",
       "      <td>0</td>\n",
       "      <td>0</td>\n",
       "      <td>1</td>\n",
       "      <td>0</td>\n",
       "    </tr>\n",
       "    <tr>\n",
       "      <th>118617</th>\n",
       "      <td>NaN</td>\n",
       "      <td>1</td>\n",
       "      <td>309.67</td>\n",
       "      <td>1500</td>\n",
       "      <td>0.0</td>\n",
       "      <td>7</td>\n",
       "      <td>0</td>\n",
       "      <td>0</td>\n",
       "      <td>0</td>\n",
       "      <td>1</td>\n",
       "      <td>...</td>\n",
       "      <td>0</td>\n",
       "      <td>0</td>\n",
       "      <td>0</td>\n",
       "      <td>0</td>\n",
       "      <td>0</td>\n",
       "      <td>0</td>\n",
       "      <td>0</td>\n",
       "      <td>0</td>\n",
       "      <td>1</td>\n",
       "      <td>0</td>\n",
       "    </tr>\n",
       "    <tr>\n",
       "      <th>118618</th>\n",
       "      <td>NaN</td>\n",
       "      <td>90</td>\n",
       "      <td>38.26</td>\n",
       "      <td>1500</td>\n",
       "      <td>0.0</td>\n",
       "      <td>12</td>\n",
       "      <td>0</td>\n",
       "      <td>1</td>\n",
       "      <td>0</td>\n",
       "      <td>0</td>\n",
       "      <td>...</td>\n",
       "      <td>0</td>\n",
       "      <td>0</td>\n",
       "      <td>0</td>\n",
       "      <td>0</td>\n",
       "      <td>0</td>\n",
       "      <td>0</td>\n",
       "      <td>0</td>\n",
       "      <td>0</td>\n",
       "      <td>1</td>\n",
       "      <td>0</td>\n",
       "    </tr>\n",
       "    <tr>\n",
       "      <th>118619</th>\n",
       "      <td>74133</td>\n",
       "      <td>81</td>\n",
       "      <td>1230.04</td>\n",
       "      <td>8500</td>\n",
       "      <td>0.0</td>\n",
       "      <td>1</td>\n",
       "      <td>0</td>\n",
       "      <td>0</td>\n",
       "      <td>0</td>\n",
       "      <td>0</td>\n",
       "      <td>...</td>\n",
       "      <td>0</td>\n",
       "      <td>0</td>\n",
       "      <td>0</td>\n",
       "      <td>0</td>\n",
       "      <td>0</td>\n",
       "      <td>0</td>\n",
       "      <td>0</td>\n",
       "      <td>1</td>\n",
       "      <td>0</td>\n",
       "      <td>0</td>\n",
       "    </tr>\n",
       "    <tr>\n",
       "      <th>118620</th>\n",
       "      <td>NaN</td>\n",
       "      <td>5</td>\n",
       "      <td>10.49</td>\n",
       "      <td>2500</td>\n",
       "      <td>0.0</td>\n",
       "      <td>9</td>\n",
       "      <td>0</td>\n",
       "      <td>0</td>\n",
       "      <td>0</td>\n",
       "      <td>1</td>\n",
       "      <td>...</td>\n",
       "      <td>0</td>\n",
       "      <td>0</td>\n",
       "      <td>0</td>\n",
       "      <td>0</td>\n",
       "      <td>0</td>\n",
       "      <td>0</td>\n",
       "      <td>0</td>\n",
       "      <td>0</td>\n",
       "      <td>0</td>\n",
       "      <td>0</td>\n",
       "    </tr>\n",
       "  </tbody>\n",
       "</table>\n",
       "<p>118621 rows × 29 columns</p>\n",
       "</div>"
      ],
      "text/plain": [
       "       merchantZip  posEntryMode  transactionAmount  availableCash  isFraud  \\\n",
       "0              CR0             1              10.72           7500      0.0   \n",
       "1             UB11             1               8.45           7500      0.0   \n",
       "2              CR0             1              11.98           8500      0.0   \n",
       "3             TS17             1              25.22           7500      0.0   \n",
       "4             UB11             1               8.38           7500      0.0   \n",
       "...            ...           ...                ...            ...      ...   \n",
       "118616         NaN             1             122.91            500      0.0   \n",
       "118617         NaN             1             309.67           1500      0.0   \n",
       "118618         NaN            90              38.26           1500      0.0   \n",
       "118619       74133            81            1230.04           8500      0.0   \n",
       "118620         NaN             5              10.49           2500      0.0   \n",
       "\n",
       "        transactionMonth  time_Early Morning  time_Eve  time_Late Night  \\\n",
       "0                      1                   0         0                1   \n",
       "1                      1                   0         0                1   \n",
       "2                      1                   0         0                0   \n",
       "3                      1                   0         0                0   \n",
       "4                      1                   0         0                0   \n",
       "...                  ...                 ...       ...              ...   \n",
       "118616                 6                   0         0                0   \n",
       "118617                 7                   0         0                0   \n",
       "118618                12                   0         1                0   \n",
       "118619                 1                   0         0                0   \n",
       "118620                 9                   0         0                0   \n",
       "\n",
       "        time_Morning  ...  mc_292  mc_372  mc_380  mc_442  mc_528  mc_724  \\\n",
       "0                  0  ...       0       0       0       0       0       0   \n",
       "1                  0  ...       0       0       0       0       0       0   \n",
       "2                  0  ...       0       0       0       0       0       0   \n",
       "3                  0  ...       0       0       0       0       0       0   \n",
       "4                  0  ...       0       0       0       0       0       0   \n",
       "...              ...  ...     ...     ...     ...     ...     ...     ...   \n",
       "118616             0  ...       0       0       0       0       0       0   \n",
       "118617             1  ...       0       0       0       0       0       0   \n",
       "118618             0  ...       0       0       0       0       0       0   \n",
       "118619             0  ...       0       0       0       0       0       0   \n",
       "118620             1  ...       0       0       0       0       0       0   \n",
       "\n",
       "        mc_756  mc_826  mc_840  mc_low_freq_countires  \n",
       "0            0       1       0                      0  \n",
       "1            0       1       0                      0  \n",
       "2            0       1       0                      0  \n",
       "3            0       1       0                      0  \n",
       "4            0       1       0                      0  \n",
       "...        ...     ...     ...                    ...  \n",
       "118616       0       0       1                      0  \n",
       "118617       0       0       1                      0  \n",
       "118618       0       0       1                      0  \n",
       "118619       0       1       0                      0  \n",
       "118620       0       0       0                      0  \n",
       "\n",
       "[118621 rows x 29 columns]"
      ]
     },
     "execution_count": 702,
     "metadata": {},
     "output_type": "execute_result"
    }
   ],
   "source": [
    "data_features"
   ]
  },
  {
   "attachments": {},
   "cell_type": "markdown",
   "metadata": {},
   "source": [
    "# Merchant Zip"
   ]
  },
  {
   "cell_type": "code",
   "execution_count": 750,
   "metadata": {},
   "outputs": [
    {
     "name": "stdout",
     "output_type": "stream",
     "text": [
      "The number of na values for the feature \"merchantZip\" is 23005\n"
     ]
    }
   ],
   "source": [
    "# It is the zip code of the postal address of the merchant. This column cointains 23005 missing values and the best method is to drop the column.\n",
    "print('The number of na values for the feature \"merchantZip\" is', data_features.apply(lambda x : x.isnull().sum()).to_dict().get('merchantZip'))\n",
    "data_features = data_features.drop(columns=['merchantZip'])"
   ]
  },
  {
   "attachments": {},
   "cell_type": "markdown",
   "metadata": {},
   "source": [
    "# POS Entry Mode"
   ]
  },
  {
   "cell_type": "code",
   "execution_count": 751,
   "metadata": {},
   "outputs": [],
   "source": [
    "# It represents the point of sale entry mode and there are just 10 distinct values hence we should use a one hot encoder. This can be done using the \n",
    "# get_dummies function from pandas.\n",
    "data_features['posEntryMode'].value_counts()\n",
    "data_features = create_dummies(data_features,data_features['posEntryMode'],'pos_mode')"
   ]
  },
  {
   "attachments": {},
   "cell_type": "markdown",
   "metadata": {},
   "source": [
    "# Transaction Amount"
   ]
  },
  {
   "cell_type": "code",
   "execution_count": 752,
   "metadata": {},
   "outputs": [],
   "source": [
    "# This column contains a certain number of negative values which are not veyr high in magnitude. The minimum tranasction amount is \"-0.15\". \n",
    "# We can either reomove these 183 values or make them zero. It wont make a huge difference if I perform any of these two methods\n",
    "# but leaving the negative values as it is can degrade the performance of our classifier. I chose to remove the observations as -ve transaction values don't make sense\n",
    "# and making them zero without any strong reason would not make any sense. As far as the skewness of this feature is concerned, I do not plan to use a parametric model \n",
    "# hence transforming the values according to a specific distribution won't make sense. \n",
    "\n",
    "neg_indexes = data_features[ data_features['transactionAmount'] < 0 ].index\n",
    "data_features.drop(neg_indexes , inplace=True)\n",
    "data_features['transactionAmount'] = rs.fit_transform(data_features['transactionAmount'].values.reshape(-1,1))"
   ]
  },
  {
   "cell_type": "code",
   "execution_count": 706,
   "metadata": {},
   "outputs": [
    {
     "data": {
      "text/html": [
       "<div>\n",
       "<style scoped>\n",
       "    .dataframe tbody tr th:only-of-type {\n",
       "        vertical-align: middle;\n",
       "    }\n",
       "\n",
       "    .dataframe tbody tr th {\n",
       "        vertical-align: top;\n",
       "    }\n",
       "\n",
       "    .dataframe thead th {\n",
       "        text-align: right;\n",
       "    }\n",
       "</style>\n",
       "<table border=\"1\" class=\"dataframe\">\n",
       "  <thead>\n",
       "    <tr style=\"text-align: right;\">\n",
       "      <th></th>\n",
       "      <th>transactionAmount</th>\n",
       "      <th>availableCash</th>\n",
       "      <th>isFraud</th>\n",
       "      <th>transactionMonth</th>\n",
       "      <th>time_Early Morning</th>\n",
       "      <th>time_Eve</th>\n",
       "      <th>time_Late Night</th>\n",
       "      <th>time_Morning</th>\n",
       "      <th>time_Night</th>\n",
       "      <th>time_Noon</th>\n",
       "      <th>...</th>\n",
       "      <th>pos_mode_0</th>\n",
       "      <th>pos_mode_1</th>\n",
       "      <th>pos_mode_2</th>\n",
       "      <th>pos_mode_5</th>\n",
       "      <th>pos_mode_7</th>\n",
       "      <th>pos_mode_79</th>\n",
       "      <th>pos_mode_80</th>\n",
       "      <th>pos_mode_81</th>\n",
       "      <th>pos_mode_90</th>\n",
       "      <th>pos_mode_91</th>\n",
       "    </tr>\n",
       "  </thead>\n",
       "  <tbody>\n",
       "    <tr>\n",
       "      <th>count</th>\n",
       "      <td>118438.000000</td>\n",
       "      <td>118438.000000</td>\n",
       "      <td>118438.000000</td>\n",
       "      <td>118438.000000</td>\n",
       "      <td>118438.000000</td>\n",
       "      <td>118438.000000</td>\n",
       "      <td>118438.000000</td>\n",
       "      <td>118438.000000</td>\n",
       "      <td>118438.000000</td>\n",
       "      <td>118438.000000</td>\n",
       "      <td>...</td>\n",
       "      <td>118438.000000</td>\n",
       "      <td>118438.000000</td>\n",
       "      <td>118438.000000</td>\n",
       "      <td>118438.000000</td>\n",
       "      <td>118438.000000</td>\n",
       "      <td>118438.000000</td>\n",
       "      <td>118438.000000</td>\n",
       "      <td>118438.000000</td>\n",
       "      <td>118438.000000</td>\n",
       "      <td>118438.000000</td>\n",
       "    </tr>\n",
       "    <tr>\n",
       "      <th>mean</th>\n",
       "      <td>0.816706</td>\n",
       "      <td>6625.103430</td>\n",
       "      <td>0.007363</td>\n",
       "      <td>6.098676</td>\n",
       "      <td>0.150830</td>\n",
       "      <td>0.181378</td>\n",
       "      <td>0.184206</td>\n",
       "      <td>0.169675</td>\n",
       "      <td>0.131267</td>\n",
       "      <td>0.182644</td>\n",
       "      <td>...</td>\n",
       "      <td>0.000093</td>\n",
       "      <td>0.089051</td>\n",
       "      <td>0.000135</td>\n",
       "      <td>0.592918</td>\n",
       "      <td>0.005378</td>\n",
       "      <td>0.000262</td>\n",
       "      <td>0.000777</td>\n",
       "      <td>0.301204</td>\n",
       "      <td>0.010149</td>\n",
       "      <td>0.000034</td>\n",
       "    </tr>\n",
       "    <tr>\n",
       "      <th>std</th>\n",
       "      <td>4.490472</td>\n",
       "      <td>3411.326979</td>\n",
       "      <td>0.085489</td>\n",
       "      <td>3.573725</td>\n",
       "      <td>0.357885</td>\n",
       "      <td>0.385332</td>\n",
       "      <td>0.387654</td>\n",
       "      <td>0.375349</td>\n",
       "      <td>0.337694</td>\n",
       "      <td>0.386376</td>\n",
       "      <td>...</td>\n",
       "      <td>0.009637</td>\n",
       "      <td>0.284818</td>\n",
       "      <td>0.011622</td>\n",
       "      <td>0.491292</td>\n",
       "      <td>0.073140</td>\n",
       "      <td>0.016176</td>\n",
       "      <td>0.027860</td>\n",
       "      <td>0.458783</td>\n",
       "      <td>0.100229</td>\n",
       "      <td>0.005811</td>\n",
       "    </tr>\n",
       "    <tr>\n",
       "      <th>min</th>\n",
       "      <td>-0.496702</td>\n",
       "      <td>500.000000</td>\n",
       "      <td>0.000000</td>\n",
       "      <td>1.000000</td>\n",
       "      <td>0.000000</td>\n",
       "      <td>0.000000</td>\n",
       "      <td>0.000000</td>\n",
       "      <td>0.000000</td>\n",
       "      <td>0.000000</td>\n",
       "      <td>0.000000</td>\n",
       "      <td>...</td>\n",
       "      <td>0.000000</td>\n",
       "      <td>0.000000</td>\n",
       "      <td>0.000000</td>\n",
       "      <td>0.000000</td>\n",
       "      <td>0.000000</td>\n",
       "      <td>0.000000</td>\n",
       "      <td>0.000000</td>\n",
       "      <td>0.000000</td>\n",
       "      <td>0.000000</td>\n",
       "      <td>0.000000</td>\n",
       "    </tr>\n",
       "    <tr>\n",
       "      <th>25%</th>\n",
       "      <td>-0.299536</td>\n",
       "      <td>4500.000000</td>\n",
       "      <td>0.000000</td>\n",
       "      <td>3.000000</td>\n",
       "      <td>0.000000</td>\n",
       "      <td>0.000000</td>\n",
       "      <td>0.000000</td>\n",
       "      <td>0.000000</td>\n",
       "      <td>0.000000</td>\n",
       "      <td>0.000000</td>\n",
       "      <td>...</td>\n",
       "      <td>0.000000</td>\n",
       "      <td>0.000000</td>\n",
       "      <td>0.000000</td>\n",
       "      <td>0.000000</td>\n",
       "      <td>0.000000</td>\n",
       "      <td>0.000000</td>\n",
       "      <td>0.000000</td>\n",
       "      <td>0.000000</td>\n",
       "      <td>0.000000</td>\n",
       "      <td>0.000000</td>\n",
       "    </tr>\n",
       "    <tr>\n",
       "      <th>50%</th>\n",
       "      <td>0.000000</td>\n",
       "      <td>7500.000000</td>\n",
       "      <td>0.000000</td>\n",
       "      <td>6.000000</td>\n",
       "      <td>0.000000</td>\n",
       "      <td>0.000000</td>\n",
       "      <td>0.000000</td>\n",
       "      <td>0.000000</td>\n",
       "      <td>0.000000</td>\n",
       "      <td>0.000000</td>\n",
       "      <td>...</td>\n",
       "      <td>0.000000</td>\n",
       "      <td>0.000000</td>\n",
       "      <td>0.000000</td>\n",
       "      <td>1.000000</td>\n",
       "      <td>0.000000</td>\n",
       "      <td>0.000000</td>\n",
       "      <td>0.000000</td>\n",
       "      <td>0.000000</td>\n",
       "      <td>0.000000</td>\n",
       "      <td>0.000000</td>\n",
       "    </tr>\n",
       "    <tr>\n",
       "      <th>75%</th>\n",
       "      <td>0.700464</td>\n",
       "      <td>8500.000000</td>\n",
       "      <td>0.000000</td>\n",
       "      <td>9.000000</td>\n",
       "      <td>0.000000</td>\n",
       "      <td>0.000000</td>\n",
       "      <td>0.000000</td>\n",
       "      <td>0.000000</td>\n",
       "      <td>0.000000</td>\n",
       "      <td>0.000000</td>\n",
       "      <td>...</td>\n",
       "      <td>0.000000</td>\n",
       "      <td>0.000000</td>\n",
       "      <td>0.000000</td>\n",
       "      <td>1.000000</td>\n",
       "      <td>0.000000</td>\n",
       "      <td>0.000000</td>\n",
       "      <td>0.000000</td>\n",
       "      <td>1.000000</td>\n",
       "      <td>0.000000</td>\n",
       "      <td>0.000000</td>\n",
       "    </tr>\n",
       "    <tr>\n",
       "      <th>max</th>\n",
       "      <td>325.621060</td>\n",
       "      <td>18500.000000</td>\n",
       "      <td>1.000000</td>\n",
       "      <td>12.000000</td>\n",
       "      <td>1.000000</td>\n",
       "      <td>1.000000</td>\n",
       "      <td>1.000000</td>\n",
       "      <td>1.000000</td>\n",
       "      <td>1.000000</td>\n",
       "      <td>1.000000</td>\n",
       "      <td>...</td>\n",
       "      <td>1.000000</td>\n",
       "      <td>1.000000</td>\n",
       "      <td>1.000000</td>\n",
       "      <td>1.000000</td>\n",
       "      <td>1.000000</td>\n",
       "      <td>1.000000</td>\n",
       "      <td>1.000000</td>\n",
       "      <td>1.000000</td>\n",
       "      <td>1.000000</td>\n",
       "      <td>1.000000</td>\n",
       "    </tr>\n",
       "  </tbody>\n",
       "</table>\n",
       "<p>8 rows × 37 columns</p>\n",
       "</div>"
      ],
      "text/plain": [
       "       transactionAmount  availableCash        isFraud  transactionMonth  \\\n",
       "count      118438.000000  118438.000000  118438.000000     118438.000000   \n",
       "mean            0.816706    6625.103430       0.007363          6.098676   \n",
       "std             4.490472    3411.326979       0.085489          3.573725   \n",
       "min            -0.496702     500.000000       0.000000          1.000000   \n",
       "25%            -0.299536    4500.000000       0.000000          3.000000   \n",
       "50%             0.000000    7500.000000       0.000000          6.000000   \n",
       "75%             0.700464    8500.000000       0.000000          9.000000   \n",
       "max           325.621060   18500.000000       1.000000         12.000000   \n",
       "\n",
       "       time_Early Morning       time_Eve  time_Late Night   time_Morning  \\\n",
       "count       118438.000000  118438.000000    118438.000000  118438.000000   \n",
       "mean             0.150830       0.181378         0.184206       0.169675   \n",
       "std              0.357885       0.385332         0.387654       0.375349   \n",
       "min              0.000000       0.000000         0.000000       0.000000   \n",
       "25%              0.000000       0.000000         0.000000       0.000000   \n",
       "50%              0.000000       0.000000         0.000000       0.000000   \n",
       "75%              0.000000       0.000000         0.000000       0.000000   \n",
       "max              1.000000       1.000000         1.000000       1.000000   \n",
       "\n",
       "          time_Night      time_Noon  ...     pos_mode_0     pos_mode_1  \\\n",
       "count  118438.000000  118438.000000  ...  118438.000000  118438.000000   \n",
       "mean        0.131267       0.182644  ...       0.000093       0.089051   \n",
       "std         0.337694       0.386376  ...       0.009637       0.284818   \n",
       "min         0.000000       0.000000  ...       0.000000       0.000000   \n",
       "25%         0.000000       0.000000  ...       0.000000       0.000000   \n",
       "50%         0.000000       0.000000  ...       0.000000       0.000000   \n",
       "75%         0.000000       0.000000  ...       0.000000       0.000000   \n",
       "max         1.000000       1.000000  ...       1.000000       1.000000   \n",
       "\n",
       "          pos_mode_2     pos_mode_5     pos_mode_7    pos_mode_79  \\\n",
       "count  118438.000000  118438.000000  118438.000000  118438.000000   \n",
       "mean        0.000135       0.592918       0.005378       0.000262   \n",
       "std         0.011622       0.491292       0.073140       0.016176   \n",
       "min         0.000000       0.000000       0.000000       0.000000   \n",
       "25%         0.000000       0.000000       0.000000       0.000000   \n",
       "50%         0.000000       1.000000       0.000000       0.000000   \n",
       "75%         0.000000       1.000000       0.000000       0.000000   \n",
       "max         1.000000       1.000000       1.000000       1.000000   \n",
       "\n",
       "         pos_mode_80    pos_mode_81    pos_mode_90    pos_mode_91  \n",
       "count  118438.000000  118438.000000  118438.000000  118438.000000  \n",
       "mean        0.000777       0.301204       0.010149       0.000034  \n",
       "std         0.027860       0.458783       0.100229       0.005811  \n",
       "min         0.000000       0.000000       0.000000       0.000000  \n",
       "25%         0.000000       0.000000       0.000000       0.000000  \n",
       "50%         0.000000       0.000000       0.000000       0.000000  \n",
       "75%         0.000000       1.000000       0.000000       0.000000  \n",
       "max         1.000000       1.000000       1.000000       1.000000  \n",
       "\n",
       "[8 rows x 37 columns]"
      ]
     },
     "execution_count": 706,
     "metadata": {},
     "output_type": "execute_result"
    }
   ],
   "source": [
    "data_features.describe()"
   ]
  },
  {
   "attachments": {},
   "cell_type": "markdown",
   "metadata": {},
   "source": [
    "# Available Cash"
   ]
  },
  {
   "cell_type": "code",
   "execution_count": 753,
   "metadata": {},
   "outputs": [],
   "source": [
    "# This column seems to be perfectly fine and can be used in our prediction models as it is. \n",
    "data_features['availableCash'] = rs.fit_transform(data_features['availableCash'].values.reshape(-1,1))"
   ]
  },
  {
   "attachments": {},
   "cell_type": "markdown",
   "metadata": {},
   "source": [
    "# Data set balance"
   ]
  },
  {
   "attachments": {},
   "cell_type": "markdown",
   "metadata": {},
   "source": [
    "With only 0.74% transactions that are fraudulent, a classifier that predicts every transaction to be not fraudulent will achieve accuracy score of 99.26%. However, such a classifier is valueless. Therefore, in the cases when classes are imbalanced, metrics other than accuracy should be considered. These metrics include precision, recall and a combination of these two metrics (F2).\n",
    "\n"
   ]
  },
  {
   "cell_type": "code",
   "execution_count": 755,
   "metadata": {},
   "outputs": [],
   "source": [
    "# the target variable \"isFraud\" is highly imbalanced. In such case the classifier will favour the majority classs start generating false predictions.\n",
    "# Hence we upsample the minority class using synthetic monetory upsampling technique. \n",
    "\n",
    "# The penalty for mislabeling a fraud transaction as legitimate is having a user’s money stolen, which the credit card company\n",
    "# typically reimburses. On the other hand, the penalty for mislabeling a legitimate transaction as fraud is having the user frozen\n",
    "# out of their finances and unable to make payments. Balancing the data keeping in mind that we need to catch most of the fraudulent\n",
    "# transactions and have the least number of false positives. I will be using \n",
    "\n",
    "# After reviewing many techniques and the problem statement, I reached to a conclusion that false positives should be minimum and recall at the same time should be \n",
    "# good as well. Hence I did not oversample with 1:1 ratio. More the synthetic samples the model sees, more the recall but also the chance of getting \n",
    "# false positives increases a lot. "
   ]
  },
  {
   "cell_type": "code",
   "execution_count": 756,
   "metadata": {},
   "outputs": [],
   "source": [
    "X_train,X_test,y_train,y_test = prepare_data(data_features)"
   ]
  },
  {
   "cell_type": "code",
   "execution_count": 757,
   "metadata": {},
   "outputs": [
    {
     "name": "stdout",
     "output_type": "stream",
     "text": [
      "majority_class: 94052\n",
      "minority_class: 698\n",
      "majority_class: 94052\n",
      "minority_class: 94052\n"
     ]
    }
   ],
   "source": [
    "maj_class, min_class = resamplingDataPrep(X_train,y_train,'isFraud')\n",
    "\n",
    "X_train_sm, y_train_sm = upsample_SMOTE(X_train,y_train,'is_Fraud',1)"
   ]
  },
  {
   "cell_type": "markdown",
   "metadata": {},
   "source": []
  },
  {
   "attachments": {},
   "cell_type": "markdown",
   "metadata": {},
   "source": [
    "# Experimenting with different models"
   ]
  },
  {
   "cell_type": "code",
   "execution_count": 711,
   "metadata": {},
   "outputs": [],
   "source": []
  },
  {
   "cell_type": "code",
   "execution_count": 712,
   "metadata": {},
   "outputs": [],
   "source": [
    "# x = XGBClassifier()\n",
    "# x.fit(X_train_sm,y_train_sm)\n",
    "# d = x.predict(X_test)"
   ]
  },
  {
   "cell_type": "code",
   "execution_count": 713,
   "metadata": {},
   "outputs": [],
   "source": [
    "# print(confusion_matrix(y_test,d))"
   ]
  },
  {
   "cell_type": "code",
   "execution_count": 714,
   "metadata": {},
   "outputs": [],
   "source": [
    "# from numpy import argmax\n",
    "# from sklearn.metrics import precision_recall_curve\n",
    "# yhat = x.predict_proba(X_test)\n",
    "# yhat = yhat[:, 1]\n",
    "# precision, recall, thresholds = precision_recall_curve(y_test, yhat)\n",
    "# fscore = (2 * precision * recall) / (precision + recall)\n",
    "# ix = argmax(fscore)\n",
    "# print('Best Threshold=%f, F-Score=%.3f' % (thresholds[ix], fscore[ix]))\n",
    "# no_skill = len(y_test[y_test==1]) / len(y_test)\n",
    "# plt.plot([0,1], [no_skill,no_skill], linestyle='--', label=f'Baseline score {round(no_skill,3)}')\n",
    "# plt.plot(recall, precision, marker='.', label='XGB')\n",
    "# plt.scatter(recall[ix], precision[ix], marker='o', color='black', label='Best')\n",
    "# plt.xlabel('Recall')\n",
    "# plt.ylabel('Precision')\n",
    "# plt.legend()\n",
    "# plt.show()"
   ]
  },
  {
   "cell_type": "code",
   "execution_count": 758,
   "metadata": {},
   "outputs": [],
   "source": [
    "# feature_imp = pd.DataFrame(sorted(zip(logisticRegr.feature_importances_,X.columns)), columns=['Value','Feature'])\n",
    "\n",
    "# plt.figure(figsize=(20, 10))\n",
    "# sns.barplot(x=\"Value\", y=\"Feature\", data=feature_imp.sort_values(by=\"Value\", ascending=False))\n",
    "# plt.title('Random Forest')\n",
    "# plt.tight_layout()\n",
    "# plt.show()\n",
    "# plt.savefig('f-imp.png')"
   ]
  },
  {
   "cell_type": "code",
   "execution_count": 759,
   "metadata": {},
   "outputs": [
    {
     "name": "stderr",
     "output_type": "stream",
     "text": [
      "/Library/Frameworks/Python.framework/Versions/3.10/lib/python3.10/site-packages/sklearn/linear_model/_logistic.py:444: ConvergenceWarning: lbfgs failed to converge (status=1):\n",
      "STOP: TOTAL NO. of ITERATIONS REACHED LIMIT.\n",
      "\n",
      "Increase the number of iterations (max_iter) or scale the data as shown in:\n",
      "    https://scikit-learn.org/stable/modules/preprocessing.html\n",
      "Please also refer to the documentation for alternative solver options:\n",
      "    https://scikit-learn.org/stable/modules/linear_model.html#logistic-regression\n",
      "  n_iter_i = _check_optimize_result(\n"
     ]
    },
    {
     "name": "stdout",
     "output_type": "stream",
     "text": [
      "               models  precision_score  recall_score  f1_score    pr_auc\n",
      "0  LogisticRegression         0.049065      0.798851  0.092451  0.040673\n",
      "1        DecisionTree         0.372760      0.597701  0.459161  0.225754\n",
      "2        RandomForest         0.776000      0.557471  0.648829  0.435848\n",
      "3             XGBoost         0.574163      0.689655  0.626632  0.398254\n",
      "4            ADABoost         0.041823      0.833333  0.079648  0.036077\n"
     ]
    }
   ],
   "source": [
    "from sklearn.metrics import f1_score, precision_score, recall_score, average_precision_score\n",
    "models = {'LogisticRegression': LogisticRegression(),\n",
    "'DecisionTree':DecisionTreeClassifier(),\n",
    "'RandomForest':RandomForestClassifier(),\n",
    "'XGBoost':XGBClassifier(),\n",
    "'ADABoost': AdaBoostClassifier()\n",
    "}\n",
    "\n",
    "f1 = []\n",
    "\n",
    "for u,v in models.items():\n",
    "    b_model = v.fit(X_train_sm,y_train_sm)\n",
    "    preds_b = b_model.predict(X_test)\n",
    "    f1.append([u,precision_score(y_test,preds_b),recall_score(y_test,preds_b),f1_score(y_test,preds_b),average_precision_score(y_test,preds_b)])\n",
    "\n",
    "\n",
    "f1 = pd.DataFrame(f1,columns=['models','precision_score','recall_score','f1_score','pr_auc'])\n",
    "print(f1)\n"
   ]
  },
  {
   "cell_type": "code",
   "execution_count": 717,
   "metadata": {},
   "outputs": [],
   "source": [
    "# y_test.value_counts()[1]/y_test.value_counts()[0] # baseline pr_auc for our model"
   ]
  },
  {
   "cell_type": "code",
   "execution_count": 718,
   "metadata": {},
   "outputs": [],
   "source": [
    "# xgb = XGBClassifier()\n",
    "# xgb.fit(X_train_sm,y_train_sm)\n",
    "# xgb_pred = xgb.predict(X_test)\n",
    "# print(classification_report(y_test,xgb_pred))\n",
    "# print(confusion_matrix(y_test,xgb_pred))"
   ]
  },
  {
   "cell_type": "code",
   "execution_count": 719,
   "metadata": {},
   "outputs": [],
   "source": [
    "# data_features.hist(figsize=(50,50))"
   ]
  },
  {
   "cell_type": "code",
   "execution_count": 720,
   "metadata": {},
   "outputs": [],
   "source": [
    "# lr = RandomForestClassifier()\n",
    "# lr.fit(X_train,y_train)\n",
    "# p = lr.predict(X_test)\n",
    "# print(classification_report(y_test,p))\n",
    "# print(confusion_matrix(y_test,p))"
   ]
  },
  {
   "cell_type": "code",
   "execution_count": 721,
   "metadata": {},
   "outputs": [],
   "source": [
    "# # example of evaluating a decision tree with random undersampling\n",
    "# from numpy import mean\n",
    "# from sklearn.datasets import make_classification\n",
    "# from sklearn.model_selection import cross_val_score\n",
    "# from sklearn.model_selection import RepeatedStratifiedKFold\n",
    "# from sklearn.tree import DecisionTreeClassifier\n",
    "# from imblearn.pipeline import Pipeline\n",
    "# from imblearn.under_sampling import RandomUnderSampler\n",
    "# # define pipeline\n",
    "# steps = [('under', RandomUnderSampler()), ('model', RandomForestClassifier())]\n",
    "# pipeline = Pipeline(steps=steps)\n",
    "# # evaluate pipeline\n",
    "# cv = RepeatedStratifiedKFold(n_splits=10, n_repeats=3, random_state=1)\n",
    "# scores = cross_val_score(pipeline, X_train, y_train, scoring='f1_micro', cv=cv, n_jobs=-1)\n",
    "# score = mean(scores)\n",
    "# print('F1 Score: %.3f' % score)"
   ]
  },
  {
   "cell_type": "code",
   "execution_count": 760,
   "metadata": {},
   "outputs": [],
   "source": [
    "from imblearn.over_sampling import SMOTE\n",
    "from sklearn.model_selection import train_test_split, RandomizedSearchCV\n",
    "from sklearn.model_selection import StratifiedShuffleSplit as sss\n",
    "from sklearn.metrics import roc_auc_score\n",
    "from imblearn.pipeline import Pipeline as imbpipeline\n",
    "from sklearn.model_selection import RepeatedStratifiedKFold, StratifiedKFold\n",
    "from sklearn.model_selection import GridSearchCV\n",
    "from tqdm import tqdm\n",
    "# rfc_model=  imbpipeline(steps = [['smote', SMOTE()],['rfc', RandomForestClassifier()]])\n",
    "\n",
    "# # Choose the grid of hyperparameters we want to use for Grid Search to build our candidate models\n",
    "# rfc_param_grid={\n",
    "#     'rfc__n_estimators': [1,10,100,500],\n",
    "#     'rfc__max_depth': [4, 5, 6]}\n",
    "\n",
    "# stratified_kfold = StratifiedKFold(n_splits=5, shuffle=True, random_state=42)\n",
    "\n",
    "# # Create a grid search object which will store the scores and hyperparameters of all candidate models \n",
    "# rfc_param_grid = GridSearchCV(\n",
    "#     rfc_model, \n",
    "#     rfc_param_grid,\n",
    "#     scoring='f1',\n",
    "#     cv=stratified_kfold, verbose=10)\n",
    "\n",
    "# # Fit the models specified by the parameter grid \n",
    "# tqdm(rfc_param_grid.fit(X_train, y_train))\n",
    "\n",
    "# # get the best hyperparameters from grid search object with its best_params_ attribute\n",
    "# print('Best parameters found:\\n', rfc_param_grid.best_params_)\n",
    "\n",
    "# print(rfc_param_grid.best_score_)\n",
    "# rfc_grid_predict = rfc_param_grid.predict(X_val)\n",
    "# print(confusion_matrix(y_val,rfc_grid_predict))\n",
    "# print(classification_report(y_val,rfc_grid_predict))"
   ]
  },
  {
   "cell_type": "code",
   "execution_count": 781,
   "metadata": {},
   "outputs": [],
   "source": [
    "def best_f1_pr_auc(x,name,X_test,y_test):\n",
    "    yhat = x.predict_proba(X_test)\n",
    "    yhat = yhat[:, 1]\n",
    "    precision, recall, thresholds = precision_recall_curve(y_test, yhat)\n",
    "    fscore = (2 * precision * recall) / (precision + recall)\n",
    "    ix = argmax(fscore)\n",
    "    print(f'Best Threshold = {thresholds[ix]} and best F-Score {round(fscore[ix],3)} achieved for {name}')\n",
    "    no_skill = len(y_test[y_test==1]) / len(y_test)\n",
    "    plt.plot([0,1], [no_skill,no_skill], linestyle='--', label=f'Baseline score {round(no_skill,3)}')\n",
    "    plt.plot(recall, precision, marker='.', label=name)\n",
    "    plt.scatter(recall[ix], precision[ix], marker='o', color='black', label='Best')\n",
    "    plt.xlabel('Recall')\n",
    "    plt.ylabel('Precision')\n",
    "    plt.legend()\n",
    "    plt.savefig('figs/pr_auc.png')\n",
    "    return thresholds[ix], fscore[ix]"
   ]
  },
  {
   "cell_type": "code",
   "execution_count": 850,
   "metadata": {},
   "outputs": [
    {
     "name": "stdout",
     "output_type": "stream",
     "text": [
      "Best Threshold = 0.6495132446289062 and best F-Score 0.74 achieved for XGB\n"
     ]
    },
    {
     "data": {
      "image/png": "[encoded data removed]",
      "text/plain": [
       "<Figure size 432x288 with 1 Axes>"
      ]
     },
     "metadata": {
      "needs_background": "light"
     },
     "output_type": "display_data"
    }
   ],
   "source": [
    "import pickle\n",
    "x = pickle.load(open('model_f1.pkl', 'rb'))\n",
    "# x.fit(X_train_sm, y_train_sm)\n",
    "best_thres, best_f1 = best_f1_pr_auc(x,'XGB',X_test,y_test)\n",
    "# best_pred_prob = x.predict_proba(X_test)\n",
    "y_pred = (x.predict_proba(X_test)[:,1] >= best_thres).astype(int)"
   ]
  },
  {
   "cell_type": "code",
   "execution_count": 851,
   "metadata": {},
   "outputs": [
    {
     "name": "stdout",
     "output_type": "stream",
     "text": [
      "[[23494    20]\n",
      " [   60   114]]\n"
     ]
    }
   ],
   "source": [
    "print(confusion_matrix(y_test,y_pred))"
   ]
  },
  {
   "cell_type": "code",
   "execution_count": 852,
   "metadata": {},
   "outputs": [
    {
     "name": "stdout",
     "output_type": "stream",
     "text": [
      "              precision    recall  f1-score   support\n",
      "\n",
      "         0.0       1.00      1.00      1.00     23514\n",
      "         1.0       0.80      0.70      0.75       174\n",
      "\n",
      "    accuracy                           1.00     23688\n",
      "   macro avg       0.90      0.85      0.87     23688\n",
      "weighted avg       1.00      1.00      1.00     23688\n",
      "\n"
     ]
    }
   ],
   "source": [
    "md = XGBClassifier(n_estimators = 500)\n",
    "md.fit(X_train_sm,y_train_sm)\n",
    "pr = md.predict(X_test)\n",
    "print(classification_report(y_test,pr))"
   ]
  },
  {
   "cell_type": "code",
   "execution_count": 853,
   "metadata": {},
   "outputs": [
    {
     "name": "stdout",
     "output_type": "stream",
     "text": [
      "Best Threshold = 0.5131067633628845 and best F-Score 0.748 achieved for XGB\n"
     ]
    },
    {
     "data": {
      "image/png": "[encoded data removed]",
      "text/plain": [
       "<Figure size 432x288 with 1 Axes>"
      ]
     },
     "metadata": {
      "needs_background": "light"
     },
     "output_type": "display_data"
    }
   ],
   "source": [
    "best_thres, best_f1 = best_f1_pr_auc(md,'XGB',X_test,y_test)"
   ]
  },
  {
   "cell_type": "code",
   "execution_count": 869,
   "metadata": {},
   "outputs": [],
   "source": [
    "preds = (md.predict_proba(X_test)[:,1] >= 0.1).astype(int)"
   ]
  },
  {
   "cell_type": "code",
   "execution_count": 871,
   "metadata": {},
   "outputs": [
    {
     "name": "stdout",
     "output_type": "stream",
     "text": [
      "              precision    recall  f1-score   support\n",
      "\n",
      "         0.0       1.00      1.00      1.00     23514\n",
      "         1.0       0.60      0.80      0.68       174\n",
      "\n",
      "    accuracy                           0.99     23688\n",
      "   macro avg       0.80      0.90      0.84     23688\n",
      "weighted avg       1.00      0.99      0.99     23688\n",
      "\n"
     ]
    }
   ],
   "source": [
    "print(classification_report(y_test,preds))"
   ]
  },
  {
   "cell_type": "code",
   "execution_count": null,
   "metadata": {},
   "outputs": [],
   "source": []
  }
 ],
 "metadata": {
  "kernelspec": {
   "display_name": "Python 3 (ipykernel)",
   "language": "python",
   "name": "python3"
  },
  "language_info": {
   "codemirror_mode": {
    "name": "ipython",
    "version": 3
   },
   "file_extension": ".py",
   "mimetype": "text/x-python",
   "name": "python",
   "nbconvert_exporter": "python",
   "pygments_lexer": "ipython3",
   "version": "3.10.5"
  },
  "vscode": {
   "interpreter": {
    "hash": "aee8b7b246df8f9039afb4144a1f6fd8d2ca17a180786b69acc140d282b71a49"
   }
  }
 },
 "nbformat": 4,
 "nbformat_minor": 4
}

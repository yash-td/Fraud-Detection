{
 "cells": [
  {
   "cell_type": "code",
   "execution_count": 2,
   "metadata": {},
   "outputs": [],
   "source": [
    "import numpy as np\n",
    "import pandas as pd\n",
    "import matplotlib.pyplot as plt"
   ]
  },
  {
   "attachments": {},
   "cell_type": "markdown",
   "metadata": {},
   "source": [
    "Loading the Data"
   ]
  },
  {
   "cell_type": "code",
   "execution_count": 32,
   "metadata": {},
   "outputs": [],
   "source": [
    "desc = pd.read_excel('data-dictionary.xlsx', index_col=0)\n",
    "data_features = pd.read_csv('transactions_obf.csv')\n",
    "data_labels = pd.read_csv('labels_obf.csv')\n",
    "fraud_transactions = data_labels['eventId'].tolist()"
   ]
  },
  {
   "cell_type": "code",
   "execution_count": 37,
   "metadata": {},
   "outputs": [],
   "source": [
    "data_features.loc[data_features['eventId'].isin(fraud_transactions) , 'isFraud'] = 1\n",
    "data_features.loc[data_features['eventId'].isin(fraud_transactions) == False , 'isFraud'] = 0"
   ]
  },
  {
   "cell_type": "code",
   "execution_count": 50,
   "metadata": {},
   "outputs": [
    {
     "name": "stdout",
     "output_type": "stream",
     "text": [
      "Out of the total 118621 transactions, 117746 are genuine and 875 are fraud.\n"
     ]
    }
   ],
   "source": [
    "counts = data_features['isFraud'].value_counts()\n",
    "print(f'Out of the total {len(data_features)} transactions, {dict(counts).get(0)} are genuine and {dict(counts).get(1)} are fraud.')\n"
   ]
  },
  {
   "cell_type": "code",
   "execution_count": 11,
   "metadata": {},
   "outputs": [
    {
     "data": {
      "text/plain": [
       "(array([117746.,    875.]),\n",
       " array([0. , 0.5, 1. ]),\n",
       " <BarContainer object of 2 artists>)"
      ]
     },
     "execution_count": 11,
     "metadata": {},
     "output_type": "execute_result"
    },
    {
     "data": {
      "image/png": "[encoded data removed]",
      "text/plain": [
       "<Figure size 432x288 with 1 Axes>"
      ]
     },
     "metadata": {
      "needs_background": "light"
     },
     "output_type": "display_data"
    }
   ],
   "source": [
    "plt.hist(data_features['isFraud'].tolist(),bins=2)"
   ]
  },
  {
   "cell_type": "code",
   "execution_count": 57,
   "metadata": {},
   "outputs": [
    {
     "data": {
      "text/html": [
       "<div>\n",
       "<style scoped>\n",
       "    .dataframe tbody tr th:only-of-type {\n",
       "        vertical-align: middle;\n",
       "    }\n",
       "\n",
       "    .dataframe tbody tr th {\n",
       "        vertical-align: top;\n",
       "    }\n",
       "\n",
       "    .dataframe thead th {\n",
       "        text-align: right;\n",
       "    }\n",
       "</style>\n",
       "<table border=\"1\" class=\"dataframe\">\n",
       "  <thead>\n",
       "    <tr style=\"text-align: right;\">\n",
       "      <th></th>\n",
       "      <th>transactionTime</th>\n",
       "      <th>eventId</th>\n",
       "      <th>accountNumber</th>\n",
       "      <th>merchantId</th>\n",
       "      <th>mcc</th>\n",
       "      <th>merchantCountry</th>\n",
       "      <th>merchantZip</th>\n",
       "      <th>posEntryMode</th>\n",
       "      <th>transactionAmount</th>\n",
       "      <th>availableCash</th>\n",
       "      <th>isFraud</th>\n",
       "    </tr>\n",
       "  </thead>\n",
       "  <tbody>\n",
       "    <tr>\n",
       "      <th>0</th>\n",
       "      <td>2017-01-01T00:00:00Z</td>\n",
       "      <td>18688431A1</td>\n",
       "      <td>94f9b4e7</td>\n",
       "      <td>b76d06</td>\n",
       "      <td>5968</td>\n",
       "      <td>826</td>\n",
       "      <td>CR0</td>\n",
       "      <td>1</td>\n",
       "      <td>10.72</td>\n",
       "      <td>7500</td>\n",
       "      <td>0.0</td>\n",
       "    </tr>\n",
       "    <tr>\n",
       "      <th>1</th>\n",
       "      <td>2017-01-01T00:49:03Z</td>\n",
       "      <td>2164986A1</td>\n",
       "      <td>648e19cf</td>\n",
       "      <td>718cc6</td>\n",
       "      <td>5499</td>\n",
       "      <td>826</td>\n",
       "      <td>DE14</td>\n",
       "      <td>81</td>\n",
       "      <td>21.19</td>\n",
       "      <td>4500</td>\n",
       "      <td>0.0</td>\n",
       "    </tr>\n",
       "    <tr>\n",
       "      <th>2</th>\n",
       "      <td>2017-01-01T00:43:17Z</td>\n",
       "      <td>31294145A1</td>\n",
       "      <td>c0ffab1b</td>\n",
       "      <td>94cafc</td>\n",
       "      <td>5735</td>\n",
       "      <td>442</td>\n",
       "      <td>NaN</td>\n",
       "      <td>81</td>\n",
       "      <td>5.04</td>\n",
       "      <td>9500</td>\n",
       "      <td>0.0</td>\n",
       "    </tr>\n",
       "    <tr>\n",
       "      <th>3</th>\n",
       "      <td>2017-01-01T00:15:07Z</td>\n",
       "      <td>11162049A1</td>\n",
       "      <td>038099dd</td>\n",
       "      <td>7d5803</td>\n",
       "      <td>5499</td>\n",
       "      <td>826</td>\n",
       "      <td>NR1</td>\n",
       "      <td>81</td>\n",
       "      <td>21.00</td>\n",
       "      <td>7500</td>\n",
       "      <td>0.0</td>\n",
       "    </tr>\n",
       "    <tr>\n",
       "      <th>4</th>\n",
       "      <td>2017-01-01T00:37:09Z</td>\n",
       "      <td>17067235A1</td>\n",
       "      <td>3130363b</td>\n",
       "      <td>12ca76</td>\n",
       "      <td>5411</td>\n",
       "      <td>826</td>\n",
       "      <td>M50</td>\n",
       "      <td>81</td>\n",
       "      <td>47.00</td>\n",
       "      <td>10500</td>\n",
       "      <td>0.0</td>\n",
       "    </tr>\n",
       "    <tr>\n",
       "      <th>...</th>\n",
       "      <td>...</td>\n",
       "      <td>...</td>\n",
       "      <td>...</td>\n",
       "      <td>...</td>\n",
       "      <td>...</td>\n",
       "      <td>...</td>\n",
       "      <td>...</td>\n",
       "      <td>...</td>\n",
       "      <td>...</td>\n",
       "      <td>...</td>\n",
       "      <td>...</td>\n",
       "    </tr>\n",
       "    <tr>\n",
       "      <th>118616</th>\n",
       "      <td>2018-01-30T23:52:16Z</td>\n",
       "      <td>103590747A1</td>\n",
       "      <td>d3c036ac</td>\n",
       "      <td>0b1dae</td>\n",
       "      <td>6300</td>\n",
       "      <td>826</td>\n",
       "      <td>NN1</td>\n",
       "      <td>81</td>\n",
       "      <td>50.91</td>\n",
       "      <td>7500</td>\n",
       "      <td>0.0</td>\n",
       "    </tr>\n",
       "    <tr>\n",
       "      <th>118617</th>\n",
       "      <td>2018-01-30T23:57:16Z</td>\n",
       "      <td>18903650A1</td>\n",
       "      <td>e0ad403a</td>\n",
       "      <td>e5d3c5</td>\n",
       "      <td>5812</td>\n",
       "      <td>826</td>\n",
       "      <td>TW9</td>\n",
       "      <td>5</td>\n",
       "      <td>71.00</td>\n",
       "      <td>10500</td>\n",
       "      <td>0.0</td>\n",
       "    </tr>\n",
       "    <tr>\n",
       "      <th>118618</th>\n",
       "      <td>2018-01-30T23:59:03Z</td>\n",
       "      <td>103582443A1</td>\n",
       "      <td>d3c036ac</td>\n",
       "      <td>0b1dae</td>\n",
       "      <td>6300</td>\n",
       "      <td>826</td>\n",
       "      <td>NN1</td>\n",
       "      <td>81</td>\n",
       "      <td>17.00</td>\n",
       "      <td>8500</td>\n",
       "      <td>0.0</td>\n",
       "    </tr>\n",
       "    <tr>\n",
       "      <th>118619</th>\n",
       "      <td>2018-01-31T00:04:44Z</td>\n",
       "      <td>14841868A1</td>\n",
       "      <td>ec212849</td>\n",
       "      <td>1ab20c</td>\n",
       "      <td>4812</td>\n",
       "      <td>826</td>\n",
       "      <td>SL1</td>\n",
       "      <td>1</td>\n",
       "      <td>11.00</td>\n",
       "      <td>7500</td>\n",
       "      <td>0.0</td>\n",
       "    </tr>\n",
       "    <tr>\n",
       "      <th>118620</th>\n",
       "      <td>2018-01-30T23:49:09Z</td>\n",
       "      <td>14844076A1</td>\n",
       "      <td>ec212849</td>\n",
       "      <td>1ef22b</td>\n",
       "      <td>4812</td>\n",
       "      <td>826</td>\n",
       "      <td>SL1</td>\n",
       "      <td>81</td>\n",
       "      <td>11.00</td>\n",
       "      <td>7500</td>\n",
       "      <td>0.0</td>\n",
       "    </tr>\n",
       "  </tbody>\n",
       "</table>\n",
       "<p>118621 rows × 11 columns</p>\n",
       "</div>"
      ],
      "text/plain": [
       "             transactionTime      eventId accountNumber merchantId   mcc  \\\n",
       "0       2017-01-01T00:00:00Z   18688431A1      94f9b4e7     b76d06  5968   \n",
       "1       2017-01-01T00:49:03Z    2164986A1      648e19cf     718cc6  5499   \n",
       "2       2017-01-01T00:43:17Z   31294145A1      c0ffab1b     94cafc  5735   \n",
       "3       2017-01-01T00:15:07Z   11162049A1      038099dd     7d5803  5499   \n",
       "4       2017-01-01T00:37:09Z   17067235A1      3130363b     12ca76  5411   \n",
       "...                      ...          ...           ...        ...   ...   \n",
       "118616  2018-01-30T23:52:16Z  103590747A1      d3c036ac     0b1dae  6300   \n",
       "118617  2018-01-30T23:57:16Z   18903650A1      e0ad403a     e5d3c5  5812   \n",
       "118618  2018-01-30T23:59:03Z  103582443A1      d3c036ac     0b1dae  6300   \n",
       "118619  2018-01-31T00:04:44Z   14841868A1      ec212849     1ab20c  4812   \n",
       "118620  2018-01-30T23:49:09Z   14844076A1      ec212849     1ef22b  4812   \n",
       "\n",
       "        merchantCountry merchantZip  posEntryMode  transactionAmount  \\\n",
       "0                   826         CR0             1              10.72   \n",
       "1                   826        DE14            81              21.19   \n",
       "2                   442         NaN            81               5.04   \n",
       "3                   826         NR1            81              21.00   \n",
       "4                   826         M50            81              47.00   \n",
       "...                 ...         ...           ...                ...   \n",
       "118616              826         NN1            81              50.91   \n",
       "118617              826         TW9             5              71.00   \n",
       "118618              826         NN1            81              17.00   \n",
       "118619              826         SL1             1              11.00   \n",
       "118620              826         SL1            81              11.00   \n",
       "\n",
       "        availableCash  isFraud  \n",
       "0                7500      0.0  \n",
       "1                4500      0.0  \n",
       "2                9500      0.0  \n",
       "3                7500      0.0  \n",
       "4               10500      0.0  \n",
       "...               ...      ...  \n",
       "118616           7500      0.0  \n",
       "118617          10500      0.0  \n",
       "118618           8500      0.0  \n",
       "118619           7500      0.0  \n",
       "118620           7500      0.0  \n",
       "\n",
       "[118621 rows x 11 columns]"
      ]
     },
     "execution_count": 57,
     "metadata": {},
     "output_type": "execute_result"
    }
   ],
   "source": [
    "data_features"
   ]
  },
  {
   "cell_type": "code",
   "execution_count": 55,
   "metadata": {},
   "outputs": [
    {
     "data": {
      "text/plain": [
       "transactionTime          0\n",
       "eventId                  0\n",
       "accountNumber            0\n",
       "merchantId               0\n",
       "mcc                      0\n",
       "merchantCountry          0\n",
       "merchantZip          23005\n",
       "posEntryMode             0\n",
       "transactionAmount        0\n",
       "availableCash            0\n",
       "isFraud                  0\n",
       "dtype: int64"
      ]
     },
     "execution_count": 55,
     "metadata": {},
     "output_type": "execute_result"
    }
   ],
   "source": [
    "data_features.apply(lambda x : x.isnull().sum())"
   ]
  },
  {
   "cell_type": "code",
   "execution_count": null,
   "metadata": {},
   "outputs": [],
   "source": []
  }
 ],
 "metadata": {
  "kernelspec": {
   "display_name": "Python 3.10.5 64-bit",
   "language": "python",
   "name": "python3"
  },
  "language_info": {
   "codemirror_mode": {
    "name": "ipython",
    "version": 3
   },
   "file_extension": ".py",
   "mimetype": "text/x-python",
   "name": "python",
   "nbconvert_exporter": "python",
   "pygments_lexer": "ipython3",
   "version": "3.10.5"
  },
  "orig_nbformat": 4,
  "vscode": {
   "interpreter": {
    "hash": "aee8b7b246df8f9039afb4144a1f6fd8d2ca17a180786b69acc140d282b71a49"
   }
  }
 },
 "nbformat": 4,
 "nbformat_minor": 2
}
